{
 "cells": [
  {
   "cell_type": "code",
   "execution_count": 5,
   "id": "a3b6fa46",
   "metadata": {},
   "outputs": [
    {
     "name": "stdout",
     "output_type": "stream",
     "text": [
      "Requirement already satisfied: pandas in c:\\users\\zamak\\appdata\\local\\packages\\pythonsoftwarefoundation.python.3.11_qbz5n2kfra8p0\\localcache\\local-packages\\python311\\site-packages (2.3.3)\n",
      "Requirement already satisfied: numpy>=1.23.2 in c:\\users\\zamak\\appdata\\local\\packages\\pythonsoftwarefoundation.python.3.11_qbz5n2kfra8p0\\localcache\\local-packages\\python311\\site-packages (from pandas) (2.3.4)\n",
      "Requirement already satisfied: python-dateutil>=2.8.2 in c:\\users\\zamak\\appdata\\local\\packages\\pythonsoftwarefoundation.python.3.11_qbz5n2kfra8p0\\localcache\\local-packages\\python311\\site-packages (from pandas) (2.9.0.post0)\n",
      "Requirement already satisfied: pytz>=2020.1 in c:\\users\\zamak\\appdata\\local\\packages\\pythonsoftwarefoundation.python.3.11_qbz5n2kfra8p0\\localcache\\local-packages\\python311\\site-packages (from pandas) (2025.2)\n",
      "Requirement already satisfied: tzdata>=2022.7 in c:\\users\\zamak\\appdata\\local\\packages\\pythonsoftwarefoundation.python.3.11_qbz5n2kfra8p0\\localcache\\local-packages\\python311\\site-packages (from pandas) (2025.2)\n",
      "Requirement already satisfied: six>=1.5 in c:\\users\\zamak\\appdata\\local\\packages\\pythonsoftwarefoundation.python.3.11_qbz5n2kfra8p0\\localcache\\local-packages\\python311\\site-packages (from python-dateutil>=2.8.2->pandas) (1.17.0)\n"
     ]
    },
    {
     "name": "stderr",
     "output_type": "stream",
     "text": [
      "\n",
      "[notice] A new release of pip is available: 24.0 -> 25.2\n",
      "[notice] To update, run: C:\\Users\\zamak\\AppData\\Local\\Microsoft\\WindowsApps\\PythonSoftwareFoundation.Python.3.11_qbz5n2kfra8p0\\python.exe -m pip install --upgrade pip\n"
     ]
    },
    {
     "name": "stdout",
     "output_type": "stream",
     "text": [
      "Requirement already satisfied: torch in c:\\users\\zamak\\appdata\\local\\packages\\pythonsoftwarefoundation.python.3.11_qbz5n2kfra8p0\\localcache\\local-packages\\python311\\site-packages (2.9.0)\n",
      "Requirement already satisfied: filelock in c:\\users\\zamak\\appdata\\local\\packages\\pythonsoftwarefoundation.python.3.11_qbz5n2kfra8p0\\localcache\\local-packages\\python311\\site-packages (from torch) (3.20.0)\n",
      "Requirement already satisfied: typing-extensions>=4.10.0 in c:\\users\\zamak\\appdata\\local\\packages\\pythonsoftwarefoundation.python.3.11_qbz5n2kfra8p0\\localcache\\local-packages\\python311\\site-packages (from torch) (4.15.0)\n",
      "Requirement already satisfied: sympy>=1.13.3 in c:\\users\\zamak\\appdata\\local\\packages\\pythonsoftwarefoundation.python.3.11_qbz5n2kfra8p0\\localcache\\local-packages\\python311\\site-packages (from torch) (1.14.0)\n",
      "Requirement already satisfied: networkx>=2.5.1 in c:\\users\\zamak\\appdata\\local\\packages\\pythonsoftwarefoundation.python.3.11_qbz5n2kfra8p0\\localcache\\local-packages\\python311\\site-packages (from torch) (3.5)\n",
      "Requirement already satisfied: jinja2 in c:\\users\\zamak\\appdata\\local\\packages\\pythonsoftwarefoundation.python.3.11_qbz5n2kfra8p0\\localcache\\local-packages\\python311\\site-packages (from torch) (3.1.6)\n",
      "Requirement already satisfied: fsspec>=0.8.5 in c:\\users\\zamak\\appdata\\local\\packages\\pythonsoftwarefoundation.python.3.11_qbz5n2kfra8p0\\localcache\\local-packages\\python311\\site-packages (from torch) (2025.9.0)\n",
      "Requirement already satisfied: mpmath<1.4,>=1.1.0 in c:\\users\\zamak\\appdata\\local\\packages\\pythonsoftwarefoundation.python.3.11_qbz5n2kfra8p0\\localcache\\local-packages\\python311\\site-packages (from sympy>=1.13.3->torch) (1.3.0)\n",
      "Requirement already satisfied: MarkupSafe>=2.0 in c:\\users\\zamak\\appdata\\local\\packages\\pythonsoftwarefoundation.python.3.11_qbz5n2kfra8p0\\localcache\\local-packages\\python311\\site-packages (from jinja2->torch) (3.0.3)\n"
     ]
    },
    {
     "name": "stderr",
     "output_type": "stream",
     "text": [
      "\n",
      "[notice] A new release of pip is available: 24.0 -> 25.2\n",
      "[notice] To update, run: C:\\Users\\zamak\\AppData\\Local\\Microsoft\\WindowsApps\\PythonSoftwareFoundation.Python.3.11_qbz5n2kfra8p0\\python.exe -m pip install --upgrade pip\n"
     ]
    },
    {
     "name": "stdout",
     "output_type": "stream",
     "text": [
      "Requirement already satisfied: torchvision in c:\\users\\zamak\\appdata\\local\\packages\\pythonsoftwarefoundation.python.3.11_qbz5n2kfra8p0\\localcache\\local-packages\\python311\\site-packages (0.24.0)\n",
      "Requirement already satisfied: numpy in c:\\users\\zamak\\appdata\\local\\packages\\pythonsoftwarefoundation.python.3.11_qbz5n2kfra8p0\\localcache\\local-packages\\python311\\site-packages (from torchvision) (2.3.4)\n",
      "Requirement already satisfied: torch==2.9.0 in c:\\users\\zamak\\appdata\\local\\packages\\pythonsoftwarefoundation.python.3.11_qbz5n2kfra8p0\\localcache\\local-packages\\python311\\site-packages (from torchvision) (2.9.0)\n",
      "Requirement already satisfied: pillow!=8.3.*,>=5.3.0 in c:\\users\\zamak\\appdata\\local\\packages\\pythonsoftwarefoundation.python.3.11_qbz5n2kfra8p0\\localcache\\local-packages\\python311\\site-packages (from torchvision) (12.0.0)\n",
      "Requirement already satisfied: filelock in c:\\users\\zamak\\appdata\\local\\packages\\pythonsoftwarefoundation.python.3.11_qbz5n2kfra8p0\\localcache\\local-packages\\python311\\site-packages (from torch==2.9.0->torchvision) (3.20.0)\n",
      "Requirement already satisfied: typing-extensions>=4.10.0 in c:\\users\\zamak\\appdata\\local\\packages\\pythonsoftwarefoundation.python.3.11_qbz5n2kfra8p0\\localcache\\local-packages\\python311\\site-packages (from torch==2.9.0->torchvision) (4.15.0)\n",
      "Requirement already satisfied: sympy>=1.13.3 in c:\\users\\zamak\\appdata\\local\\packages\\pythonsoftwarefoundation.python.3.11_qbz5n2kfra8p0\\localcache\\local-packages\\python311\\site-packages (from torch==2.9.0->torchvision) (1.14.0)\n",
      "Requirement already satisfied: networkx>=2.5.1 in c:\\users\\zamak\\appdata\\local\\packages\\pythonsoftwarefoundation.python.3.11_qbz5n2kfra8p0\\localcache\\local-packages\\python311\\site-packages (from torch==2.9.0->torchvision) (3.5)\n",
      "Requirement already satisfied: jinja2 in c:\\users\\zamak\\appdata\\local\\packages\\pythonsoftwarefoundation.python.3.11_qbz5n2kfra8p0\\localcache\\local-packages\\python311\\site-packages (from torch==2.9.0->torchvision) (3.1.6)\n",
      "Requirement already satisfied: fsspec>=0.8.5 in c:\\users\\zamak\\appdata\\local\\packages\\pythonsoftwarefoundation.python.3.11_qbz5n2kfra8p0\\localcache\\local-packages\\python311\\site-packages (from torch==2.9.0->torchvision) (2025.9.0)\n",
      "Requirement already satisfied: mpmath<1.4,>=1.1.0 in c:\\users\\zamak\\appdata\\local\\packages\\pythonsoftwarefoundation.python.3.11_qbz5n2kfra8p0\\localcache\\local-packages\\python311\\site-packages (from sympy>=1.13.3->torch==2.9.0->torchvision) (1.3.0)\n",
      "Requirement already satisfied: MarkupSafe>=2.0 in c:\\users\\zamak\\appdata\\local\\packages\\pythonsoftwarefoundation.python.3.11_qbz5n2kfra8p0\\localcache\\local-packages\\python311\\site-packages (from jinja2->torch==2.9.0->torchvision) (3.0.3)\n"
     ]
    },
    {
     "name": "stderr",
     "output_type": "stream",
     "text": [
      "\n",
      "[notice] A new release of pip is available: 24.0 -> 25.2\n",
      "[notice] To update, run: C:\\Users\\zamak\\AppData\\Local\\Microsoft\\WindowsApps\\PythonSoftwareFoundation.Python.3.11_qbz5n2kfra8p0\\python.exe -m pip install --upgrade pip\n"
     ]
    }
   ],
   "source": [
    "!pip install pandas\n",
    "!pip install torch\n",
    "!pip install torchvision"
   ]
  },
  {
   "cell_type": "code",
   "execution_count": 6,
   "id": "cf946584",
   "metadata": {},
   "outputs": [],
   "source": [
    "import pandas as pd\n",
    "import numpy as np\n",
    "import torch"
   ]
  },
  {
   "cell_type": "markdown",
   "id": "c817939f",
   "metadata": {},
   "source": [
    "# Hardware Check"
   ]
  },
  {
   "cell_type": "code",
   "execution_count": 7,
   "id": "f9a37e39",
   "metadata": {},
   "outputs": [
    {
     "name": "stdout",
     "output_type": "stream",
     "text": [
      "Tue Oct 28 06:19:58 2025       \n",
      "+-----------------------------------------------------------------------------------------+\n",
      "| NVIDIA-SMI 555.97                 Driver Version: 555.97         CUDA Version: 12.5     |\n",
      "|-----------------------------------------+------------------------+----------------------+\n",
      "| GPU  Name                  Driver-Model | Bus-Id          Disp.A | Volatile Uncorr. ECC |\n",
      "| Fan  Temp   Perf          Pwr:Usage/Cap |           Memory-Usage | GPU-Util  Compute M. |\n",
      "|                                         |                        |               MIG M. |\n",
      "|=========================================+========================+======================|\n",
      "|   0  NVIDIA GeForce GTX 1650      WDDM  |   00000000:01:00.0 Off |                  N/A |\n",
      "| N/A   57C    P0             13W /   50W |       0MiB /   4096MiB |      0%      Default |\n",
      "|                                         |                        |                  N/A |\n",
      "+-----------------------------------------+------------------------+----------------------+\n",
      "                                                                                         \n",
      "+-----------------------------------------------------------------------------------------+\n",
      "| Processes:                                                                              |\n",
      "|  GPU   GI   CI        PID   Type   Process name                              GPU Memory |\n",
      "|        ID   ID                                                               Usage      |\n",
      "|=========================================================================================|\n",
      "|  No running processes found                                                             |\n",
      "+-----------------------------------------------------------------------------------------+\n"
     ]
    }
   ],
   "source": [
    "!nvidia-smi"
   ]
  },
  {
   "cell_type": "code",
   "execution_count": 8,
   "id": "6d1a8561",
   "metadata": {},
   "outputs": [
    {
     "name": "stdout",
     "output_type": "stream",
     "text": [
      "Using CPU\n"
     ]
    }
   ],
   "source": [
    "#check if GPU is available and print device name\n",
    "if torch.cuda.is_available():\n",
    "    device = torch.device(\"cuda\")\n",
    "    print(\"Using GPU:\", torch.cuda.get_device_name(0))\n",
    "\n",
    "else:\n",
    "    device = torch.device(\"cpu\")\n",
    "    print(\"Using CPU\")"
   ]
  },
  {
   "cell_type": "markdown",
   "id": "0de1da82",
   "metadata": {},
   "source": [
    "# Dataset "
   ]
  },
  {
   "cell_type": "code",
   "execution_count": 9,
   "id": "0b0c985f",
   "metadata": {},
   "outputs": [],
   "source": [
    "labels_df = pd.read_csv('labels.csv',names=['lat','lng','label1','label2','label3', 'filename'])"
   ]
  },
  {
   "cell_type": "code",
   "execution_count": 10,
   "id": "4059cf25",
   "metadata": {},
   "outputs": [
    {
     "name": "stdout",
     "output_type": "stream",
     "text": [
      "\n",
      "Total number of rows: 2178\n"
     ]
    },
    {
     "data": {
      "text/html": [
       "<div>\n",
       "<style scoped>\n",
       "    .dataframe tbody tr th:only-of-type {\n",
       "        vertical-align: middle;\n",
       "    }\n",
       "\n",
       "    .dataframe tbody tr th {\n",
       "        vertical-align: top;\n",
       "    }\n",
       "\n",
       "    .dataframe thead th {\n",
       "        text-align: right;\n",
       "    }\n",
       "</style>\n",
       "<table border=\"1\" class=\"dataframe\">\n",
       "  <thead>\n",
       "    <tr style=\"text-align: right;\">\n",
       "      <th></th>\n",
       "      <th>lat</th>\n",
       "      <th>lng</th>\n",
       "      <th>label1</th>\n",
       "      <th>label2</th>\n",
       "      <th>label3</th>\n",
       "      <th>filename</th>\n",
       "    </tr>\n",
       "  </thead>\n",
       "  <tbody>\n",
       "    <tr>\n",
       "      <th>0</th>\n",
       "      <td>10.328221</td>\n",
       "      <td>-20.476357</td>\n",
       "      <td>FR II</td>\n",
       "      <td>NaN</td>\n",
       "      <td>NaN</td>\n",
       "      <td>NaN</td>\n",
       "    </tr>\n",
       "    <tr>\n",
       "      <th>1</th>\n",
       "      <td>92.109802</td>\n",
       "      <td>-49.431413</td>\n",
       "      <td>typical</td>\n",
       "      <td>NaN</td>\n",
       "      <td>NaN</td>\n",
       "      <td>NaN</td>\n",
       "    </tr>\n",
       "    <tr>\n",
       "      <th>2</th>\n",
       "      <td>88.916825</td>\n",
       "      <td>-59.431868</td>\n",
       "      <td>Point Source</td>\n",
       "      <td>NaN</td>\n",
       "      <td>NaN</td>\n",
       "      <td>NaN</td>\n",
       "    </tr>\n",
       "    <tr>\n",
       "      <th>3</th>\n",
       "      <td>5.457981</td>\n",
       "      <td>-25.589637</td>\n",
       "      <td>FR II</td>\n",
       "      <td>NaN</td>\n",
       "      <td>NaN</td>\n",
       "      <td>NaN</td>\n",
       "    </tr>\n",
       "    <tr>\n",
       "      <th>4</th>\n",
       "      <td>119.417608</td>\n",
       "      <td>-53.396711</td>\n",
       "      <td>FR II</td>\n",
       "      <td>NaN</td>\n",
       "      <td>NaN</td>\n",
       "      <td>NaN</td>\n",
       "    </tr>\n",
       "  </tbody>\n",
       "</table>\n",
       "</div>"
      ],
      "text/plain": [
       "          lat        lng        label1 label2 label3  filename\n",
       "0   10.328221 -20.476357         FR II    NaN    NaN       NaN\n",
       "1   92.109802 -49.431413       typical    NaN    NaN       NaN\n",
       "2   88.916825 -59.431868  Point Source    NaN    NaN       NaN\n",
       "3    5.457981 -25.589637         FR II    NaN    NaN       NaN\n",
       "4  119.417608 -53.396711         FR II    NaN    NaN       NaN"
      ]
     },
     "execution_count": 10,
     "metadata": {},
     "output_type": "execute_result"
    }
   ],
   "source": [
    "total_rows_len = len(labels_df)\n",
    "print(f\"\\nTotal number of rows: {total_rows_len}\")\n",
    "labels_df.head()"
   ]
  },
  {
   "cell_type": "code",
   "execution_count": 11,
   "id": "4cfb529a",
   "metadata": {},
   "outputs": [
    {
     "name": "stdout",
     "output_type": "stream",
     "text": [
      "Total number of files: 2108\n",
      "0.250 -25.084_[0.02238656 0.02238656] deg_(Abell_141_1pln-forPyBDSF.FITS).fits.png\n",
      "0.316 -24.707_[0.0166409 0.0166409] deg_(Abell_141_1pln-forPyBDSF.FITS).fits.png\n",
      "0.327 -24.571_[0.02705031 0.02705031] deg_(Abell_141_1pln-forPyBDSF.FITS).fits.png\n",
      "0.371 -24.554_[0.009 0.009] deg_(Abell_141_1pln-forPyBDSF.FITS).fits.png\n",
      "0.425 -25.211_[0.02334787 0.02334787] deg_(Abell_141_1pln-forPyBDSF.FITS).fits.png\n"
     ]
    }
   ],
   "source": [
    "\n",
    "import os\n",
    "\n",
    "filenames = os.listdir('Data/typ/typ_PNG') + os.listdir('Data/exo/exo_PNG')\n",
    "print(f\"Total number of files: {len(filenames)}\")\n",
    "\n",
    "# Print first 5 filenames\n",
    "for i in range(5):\n",
    "    print(filenames[i])"
   ]
  },
  {
   "cell_type": "code",
   "execution_count": 12,
   "id": "2e4d7c43",
   "metadata": {},
   "outputs": [
    {
     "name": "stdout",
     "output_type": "stream",
     "text": [
      "lat         float64\n",
      "lng         float64\n",
      "label1       object\n",
      "label2       object\n",
      "label3       object\n",
      "filename    float64\n",
      "dtype: object\n"
     ]
    }
   ],
   "source": [
    "print(labels_df.dtypes)"
   ]
  },
  {
   "cell_type": "code",
   "execution_count": 13,
   "id": "17306e0c",
   "metadata": {},
   "outputs": [
    {
     "name": "stderr",
     "output_type": "stream",
     "text": [
      "C:\\Users\\zamak\\AppData\\Local\\Temp\\ipykernel_17192\\110920357.py:12: FutureWarning: Setting an item of incompatible dtype is deprecated and will raise an error in a future version of pandas. Value '0.250 -25.084_[0.02238656 0.02238656] deg_(Abell_141_1pln-forPyBDSF.FITS).fits.png' has dtype incompatible with float64, please explicitly cast to a compatible dtype first.\n",
      "  labels_df.loc[label_row.index, 'filename'] = filename\n"
     ]
    },
    {
     "name": "stdout",
     "output_type": "stream",
     "text": [
      "Skipping filename with unexpected format: .ipynb_checkpoints\n"
     ]
    }
   ],
   "source": [
    "for i, filename in enumerate(filenames,start=0):\n",
    "    coordinates = filename.split('_')[0]\n",
    "    if coordinates.count(' ') != 1:\n",
    "        print(f\"Skipping filename with unexpected format: {filename}\")\n",
    "        continue\n",
    "    \n",
    "    lat, lng = coordinates.split(' ')\n",
    "    lat, lng = float(lat), float(lng)\n",
    "   \n",
    "    label_row = labels_df[(labels_df['lat'].round(3) == lat) & (labels_df['lng'].round(3) == lng)]\n",
    "    if not label_row.empty:\n",
    "        labels_df.loc[label_row.index, 'filename'] = filename"
   ]
  },
  {
   "cell_type": "markdown",
   "id": "1f357718",
   "metadata": {},
   "source": [
    "## Missed labels"
   ]
  },
  {
   "cell_type": "code",
   "execution_count": 14,
   "id": "ab9841d0",
   "metadata": {},
   "outputs": [],
   "source": [
    "missed_labels_df = labels_df[labels_df['filename'].isnull()]"
   ]
  },
  {
   "cell_type": "code",
   "execution_count": 15,
   "id": "2eccf5ac",
   "metadata": {},
   "outputs": [
    {
     "name": "stdout",
     "output_type": "stream",
     "text": [
      "\n",
      "Number of missed labels (filename is null): 202\n"
     ]
    }
   ],
   "source": [
    "print(f\"\\nNumber of missed labels (filename is null): {len(missed_labels_df)}\")"
   ]
  },
  {
   "cell_type": "code",
   "execution_count": 16,
   "id": "f9c16e08",
   "metadata": {},
   "outputs": [
    {
     "data": {
      "text/html": [
       "<div>\n",
       "<style scoped>\n",
       "    .dataframe tbody tr th:only-of-type {\n",
       "        vertical-align: middle;\n",
       "    }\n",
       "\n",
       "    .dataframe tbody tr th {\n",
       "        vertical-align: top;\n",
       "    }\n",
       "\n",
       "    .dataframe thead th {\n",
       "        text-align: right;\n",
       "    }\n",
       "</style>\n",
       "<table border=\"1\" class=\"dataframe\">\n",
       "  <thead>\n",
       "    <tr style=\"text-align: right;\">\n",
       "      <th></th>\n",
       "      <th>lat</th>\n",
       "      <th>lng</th>\n",
       "      <th>label1</th>\n",
       "      <th>label2</th>\n",
       "      <th>label3</th>\n",
       "      <th>filename</th>\n",
       "    </tr>\n",
       "  </thead>\n",
       "  <tbody>\n",
       "    <tr>\n",
       "      <th>8</th>\n",
       "      <td>351.664270</td>\n",
       "      <td>-40.441765</td>\n",
       "      <td>Should be discarded</td>\n",
       "      <td>NaN</td>\n",
       "      <td>NaN</td>\n",
       "      <td>NaN</td>\n",
       "    </tr>\n",
       "    <tr>\n",
       "      <th>10</th>\n",
       "      <td>3.751163</td>\n",
       "      <td>-29.920867</td>\n",
       "      <td>Should be discarded</td>\n",
       "      <td>NaN</td>\n",
       "      <td>NaN</td>\n",
       "      <td>NaN</td>\n",
       "    </tr>\n",
       "    <tr>\n",
       "      <th>18</th>\n",
       "      <td>172.646749</td>\n",
       "      <td>-41.932433</td>\n",
       "      <td>Should be discarded</td>\n",
       "      <td>NaN</td>\n",
       "      <td>NaN</td>\n",
       "      <td>NaN</td>\n",
       "    </tr>\n",
       "    <tr>\n",
       "      <th>20</th>\n",
       "      <td>97.471185</td>\n",
       "      <td>-56.563903</td>\n",
       "      <td>Should be discarded</td>\n",
       "      <td>NaN</td>\n",
       "      <td>NaN</td>\n",
       "      <td>NaN</td>\n",
       "    </tr>\n",
       "    <tr>\n",
       "      <th>23</th>\n",
       "      <td>61.156721</td>\n",
       "      <td>-71.298579</td>\n",
       "      <td>Should be discarded</td>\n",
       "      <td>NaN</td>\n",
       "      <td>NaN</td>\n",
       "      <td>NaN</td>\n",
       "    </tr>\n",
       "  </tbody>\n",
       "</table>\n",
       "</div>"
      ],
      "text/plain": [
       "           lat        lng               label1 label2 label3 filename\n",
       "8   351.664270 -40.441765  Should be discarded    NaN    NaN      NaN\n",
       "10    3.751163 -29.920867  Should be discarded    NaN    NaN      NaN\n",
       "18  172.646749 -41.932433  Should be discarded    NaN    NaN      NaN\n",
       "20   97.471185 -56.563903  Should be discarded    NaN    NaN      NaN\n",
       "23   61.156721 -71.298579  Should be discarded    NaN    NaN      NaN"
      ]
     },
     "execution_count": 16,
     "metadata": {},
     "output_type": "execute_result"
    }
   ],
   "source": [
    "missed_labels_df.head()"
   ]
  },
  {
   "cell_type": "code",
   "execution_count": 17,
   "id": "36abdd53",
   "metadata": {},
   "outputs": [
    {
     "data": {
      "text/plain": [
       "label1\n",
       "Should be discarded    130\n",
       "Point Source            45\n",
       "FR II                   14\n",
       "Bent                     8\n",
       "FR I                     5\n",
       "Name: count, dtype: int64"
      ]
     },
     "execution_count": 17,
     "metadata": {},
     "output_type": "execute_result"
    }
   ],
   "source": [
    "missed_labels_df['label1'].value_counts()"
   ]
  },
  {
   "cell_type": "code",
   "execution_count": 18,
   "id": "f9b229ca",
   "metadata": {},
   "outputs": [
    {
     "data": {
      "text/html": [
       "<div>\n",
       "<style scoped>\n",
       "    .dataframe tbody tr th:only-of-type {\n",
       "        vertical-align: middle;\n",
       "    }\n",
       "\n",
       "    .dataframe tbody tr th {\n",
       "        vertical-align: top;\n",
       "    }\n",
       "\n",
       "    .dataframe thead th {\n",
       "        text-align: right;\n",
       "    }\n",
       "</style>\n",
       "<table border=\"1\" class=\"dataframe\">\n",
       "  <thead>\n",
       "    <tr style=\"text-align: right;\">\n",
       "      <th></th>\n",
       "      <th>lat</th>\n",
       "      <th>lng</th>\n",
       "      <th>label1</th>\n",
       "      <th>label2</th>\n",
       "      <th>label3</th>\n",
       "      <th>filename</th>\n",
       "    </tr>\n",
       "  </thead>\n",
       "  <tbody>\n",
       "    <tr>\n",
       "      <th>50</th>\n",
       "      <td>144.600</td>\n",
       "      <td>-76.688</td>\n",
       "      <td>Point Source</td>\n",
       "      <td>Should be discarded</td>\n",
       "      <td>NaN</td>\n",
       "      <td>NaN</td>\n",
       "    </tr>\n",
       "    <tr>\n",
       "      <th>487</th>\n",
       "      <td>99.299</td>\n",
       "      <td>-48.271</td>\n",
       "      <td>Point Source</td>\n",
       "      <td>Should be discarded</td>\n",
       "      <td>NaN</td>\n",
       "      <td>NaN</td>\n",
       "    </tr>\n",
       "    <tr>\n",
       "      <th>530</th>\n",
       "      <td>49.015</td>\n",
       "      <td>-45.247</td>\n",
       "      <td>Point Source</td>\n",
       "      <td>Should be discarded</td>\n",
       "      <td>NaN</td>\n",
       "      <td>NaN</td>\n",
       "    </tr>\n",
       "    <tr>\n",
       "      <th>617</th>\n",
       "      <td>48.944</td>\n",
       "      <td>-45.141</td>\n",
       "      <td>Point Source</td>\n",
       "      <td>Should be discarded</td>\n",
       "      <td>NaN</td>\n",
       "      <td>NaN</td>\n",
       "    </tr>\n",
       "    <tr>\n",
       "      <th>754</th>\n",
       "      <td>10.626</td>\n",
       "      <td>-9.358</td>\n",
       "      <td>Point Source</td>\n",
       "      <td>Should be discarded</td>\n",
       "      <td>NaN</td>\n",
       "      <td>NaN</td>\n",
       "    </tr>\n",
       "    <tr>\n",
       "      <th>831</th>\n",
       "      <td>61.692</td>\n",
       "      <td>-71.275</td>\n",
       "      <td>Point Source</td>\n",
       "      <td>NaN</td>\n",
       "      <td>Should be discarded</td>\n",
       "      <td>NaN</td>\n",
       "    </tr>\n",
       "    <tr>\n",
       "      <th>1146</th>\n",
       "      <td>124.812</td>\n",
       "      <td>-56.955</td>\n",
       "      <td>Point Source</td>\n",
       "      <td>NaN</td>\n",
       "      <td>NaN</td>\n",
       "      <td>NaN</td>\n",
       "    </tr>\n",
       "    <tr>\n",
       "      <th>1214</th>\n",
       "      <td>238.526</td>\n",
       "      <td>-76.147</td>\n",
       "      <td>Point Source</td>\n",
       "      <td>Should be discarded</td>\n",
       "      <td>NaN</td>\n",
       "      <td>NaN</td>\n",
       "    </tr>\n",
       "    <tr>\n",
       "      <th>1296</th>\n",
       "      <td>92.846</td>\n",
       "      <td>-48.201</td>\n",
       "      <td>Point Source</td>\n",
       "      <td>Should be discarded</td>\n",
       "      <td>NaN</td>\n",
       "      <td>NaN</td>\n",
       "    </tr>\n",
       "    <tr>\n",
       "      <th>1323</th>\n",
       "      <td>115.922</td>\n",
       "      <td>-53.675</td>\n",
       "      <td>Point Source</td>\n",
       "      <td>Should be discarded</td>\n",
       "      <td>NaN</td>\n",
       "      <td>NaN</td>\n",
       "    </tr>\n",
       "    <tr>\n",
       "      <th>1363</th>\n",
       "      <td>230.092</td>\n",
       "      <td>-84.044</td>\n",
       "      <td>Point Source</td>\n",
       "      <td>Should be discarded</td>\n",
       "      <td>NaN</td>\n",
       "      <td>NaN</td>\n",
       "    </tr>\n",
       "    <tr>\n",
       "      <th>1390</th>\n",
       "      <td>87.126</td>\n",
       "      <td>-21.951</td>\n",
       "      <td>Point Source</td>\n",
       "      <td>Should be discarded</td>\n",
       "      <td>NaN</td>\n",
       "      <td>NaN</td>\n",
       "    </tr>\n",
       "    <tr>\n",
       "      <th>1607</th>\n",
       "      <td>200.896</td>\n",
       "      <td>-31.880</td>\n",
       "      <td>Point Source</td>\n",
       "      <td>Should be discarded</td>\n",
       "      <td>NaN</td>\n",
       "      <td>NaN</td>\n",
       "    </tr>\n",
       "    <tr>\n",
       "      <th>1624</th>\n",
       "      <td>89.844</td>\n",
       "      <td>-58.407</td>\n",
       "      <td>Point Source</td>\n",
       "      <td>Should be discarded</td>\n",
       "      <td>NaN</td>\n",
       "      <td>NaN</td>\n",
       "    </tr>\n",
       "    <tr>\n",
       "      <th>1625</th>\n",
       "      <td>108.105</td>\n",
       "      <td>-60.124</td>\n",
       "      <td>Point Source</td>\n",
       "      <td>Should be discarded</td>\n",
       "      <td>NaN</td>\n",
       "      <td>NaN</td>\n",
       "    </tr>\n",
       "    <tr>\n",
       "      <th>1627</th>\n",
       "      <td>237.915</td>\n",
       "      <td>-75.688</td>\n",
       "      <td>Point Source</td>\n",
       "      <td>Should be discarded</td>\n",
       "      <td>NaN</td>\n",
       "      <td>NaN</td>\n",
       "    </tr>\n",
       "    <tr>\n",
       "      <th>1628</th>\n",
       "      <td>66.475</td>\n",
       "      <td>-60.899</td>\n",
       "      <td>Point Source</td>\n",
       "      <td>Should be discarded</td>\n",
       "      <td>NaN</td>\n",
       "      <td>NaN</td>\n",
       "    </tr>\n",
       "    <tr>\n",
       "      <th>1629</th>\n",
       "      <td>301.756</td>\n",
       "      <td>-56.063</td>\n",
       "      <td>Point Source</td>\n",
       "      <td>Should be discarded</td>\n",
       "      <td>NaN</td>\n",
       "      <td>NaN</td>\n",
       "    </tr>\n",
       "    <tr>\n",
       "      <th>1630</th>\n",
       "      <td>125.027</td>\n",
       "      <td>-57.448</td>\n",
       "      <td>Point Source</td>\n",
       "      <td>Should be discarded</td>\n",
       "      <td>NaN</td>\n",
       "      <td>NaN</td>\n",
       "    </tr>\n",
       "    <tr>\n",
       "      <th>1633</th>\n",
       "      <td>61.094</td>\n",
       "      <td>-82.597</td>\n",
       "      <td>Point Source</td>\n",
       "      <td>Should be discarded</td>\n",
       "      <td>NaN</td>\n",
       "      <td>NaN</td>\n",
       "    </tr>\n",
       "    <tr>\n",
       "      <th>1634</th>\n",
       "      <td>190.431</td>\n",
       "      <td>-48.755</td>\n",
       "      <td>Point Source</td>\n",
       "      <td>Should be discarded</td>\n",
       "      <td>NaN</td>\n",
       "      <td>NaN</td>\n",
       "    </tr>\n",
       "    <tr>\n",
       "      <th>1635</th>\n",
       "      <td>92.282</td>\n",
       "      <td>-49.476</td>\n",
       "      <td>Point Source</td>\n",
       "      <td>Should be discarded</td>\n",
       "      <td>NaN</td>\n",
       "      <td>NaN</td>\n",
       "    </tr>\n",
       "    <tr>\n",
       "      <th>1638</th>\n",
       "      <td>202.424</td>\n",
       "      <td>-31.978</td>\n",
       "      <td>Point Source</td>\n",
       "      <td>Should be discarded</td>\n",
       "      <td>NaN</td>\n",
       "      <td>NaN</td>\n",
       "    </tr>\n",
       "    <tr>\n",
       "      <th>1640</th>\n",
       "      <td>96.358</td>\n",
       "      <td>-54.118</td>\n",
       "      <td>Point Source</td>\n",
       "      <td>Should be discarded</td>\n",
       "      <td>NaN</td>\n",
       "      <td>NaN</td>\n",
       "    </tr>\n",
       "    <tr>\n",
       "      <th>1644</th>\n",
       "      <td>302.811</td>\n",
       "      <td>-57.348</td>\n",
       "      <td>Point Source</td>\n",
       "      <td>Should be discarded</td>\n",
       "      <td>NaN</td>\n",
       "      <td>NaN</td>\n",
       "    </tr>\n",
       "    <tr>\n",
       "      <th>1647</th>\n",
       "      <td>212.986</td>\n",
       "      <td>-42.388</td>\n",
       "      <td>Point Source</td>\n",
       "      <td>Should be discarded</td>\n",
       "      <td>NaN</td>\n",
       "      <td>NaN</td>\n",
       "    </tr>\n",
       "    <tr>\n",
       "      <th>1649</th>\n",
       "      <td>100.642</td>\n",
       "      <td>-48.221</td>\n",
       "      <td>Point Source</td>\n",
       "      <td>Should be discarded</td>\n",
       "      <td>NaN</td>\n",
       "      <td>NaN</td>\n",
       "    </tr>\n",
       "    <tr>\n",
       "      <th>1655</th>\n",
       "      <td>10.743</td>\n",
       "      <td>-20.620</td>\n",
       "      <td>Point Source</td>\n",
       "      <td>Should be discarded</td>\n",
       "      <td>NaN</td>\n",
       "      <td>NaN</td>\n",
       "    </tr>\n",
       "    <tr>\n",
       "      <th>1661</th>\n",
       "      <td>10.051</td>\n",
       "      <td>-20.190</td>\n",
       "      <td>Point Source</td>\n",
       "      <td>Should be discarded</td>\n",
       "      <td>NaN</td>\n",
       "      <td>NaN</td>\n",
       "    </tr>\n",
       "    <tr>\n",
       "      <th>1662</th>\n",
       "      <td>213.475</td>\n",
       "      <td>-42.504</td>\n",
       "      <td>Point Source</td>\n",
       "      <td>Should be discarded</td>\n",
       "      <td>NaN</td>\n",
       "      <td>NaN</td>\n",
       "    </tr>\n",
       "    <tr>\n",
       "      <th>1665</th>\n",
       "      <td>122.966</td>\n",
       "      <td>-57.127</td>\n",
       "      <td>Point Source</td>\n",
       "      <td>Should be discarded</td>\n",
       "      <td>NaN</td>\n",
       "      <td>NaN</td>\n",
       "    </tr>\n",
       "    <tr>\n",
       "      <th>1674</th>\n",
       "      <td>49.974</td>\n",
       "      <td>-44.455</td>\n",
       "      <td>Point Source</td>\n",
       "      <td>Should be discarded</td>\n",
       "      <td>NaN</td>\n",
       "      <td>NaN</td>\n",
       "    </tr>\n",
       "    <tr>\n",
       "      <th>1685</th>\n",
       "      <td>63.248</td>\n",
       "      <td>-55.993</td>\n",
       "      <td>Point Source</td>\n",
       "      <td>Should be discarded</td>\n",
       "      <td>NaN</td>\n",
       "      <td>NaN</td>\n",
       "    </tr>\n",
       "    <tr>\n",
       "      <th>1687</th>\n",
       "      <td>93.398</td>\n",
       "      <td>-47.471</td>\n",
       "      <td>Point Source</td>\n",
       "      <td>Should be discarded</td>\n",
       "      <td>NaN</td>\n",
       "      <td>NaN</td>\n",
       "    </tr>\n",
       "    <tr>\n",
       "      <th>1688</th>\n",
       "      <td>233.969</td>\n",
       "      <td>-47.506</td>\n",
       "      <td>Point Source</td>\n",
       "      <td>Should be discarded</td>\n",
       "      <td>NaN</td>\n",
       "      <td>NaN</td>\n",
       "    </tr>\n",
       "    <tr>\n",
       "      <th>1689</th>\n",
       "      <td>99.251</td>\n",
       "      <td>-56.226</td>\n",
       "      <td>Point Source</td>\n",
       "      <td>Should be discarded</td>\n",
       "      <td>NaN</td>\n",
       "      <td>NaN</td>\n",
       "    </tr>\n",
       "    <tr>\n",
       "      <th>1691</th>\n",
       "      <td>3.448</td>\n",
       "      <td>-19.584</td>\n",
       "      <td>Point Source</td>\n",
       "      <td>Should be discarded</td>\n",
       "      <td>NaN</td>\n",
       "      <td>NaN</td>\n",
       "    </tr>\n",
       "    <tr>\n",
       "      <th>1693</th>\n",
       "      <td>10.211</td>\n",
       "      <td>-20.751</td>\n",
       "      <td>Point Source</td>\n",
       "      <td>Should be discarded</td>\n",
       "      <td>NaN</td>\n",
       "      <td>NaN</td>\n",
       "    </tr>\n",
       "    <tr>\n",
       "      <th>1695</th>\n",
       "      <td>58.588</td>\n",
       "      <td>-74.254</td>\n",
       "      <td>Point Source</td>\n",
       "      <td>Should be discarded</td>\n",
       "      <td>NaN</td>\n",
       "      <td>NaN</td>\n",
       "    </tr>\n",
       "    <tr>\n",
       "      <th>1699</th>\n",
       "      <td>98.521</td>\n",
       "      <td>-55.979</td>\n",
       "      <td>Point Source</td>\n",
       "      <td>Should be discarded</td>\n",
       "      <td>NaN</td>\n",
       "      <td>NaN</td>\n",
       "    </tr>\n",
       "    <tr>\n",
       "      <th>1700</th>\n",
       "      <td>90.714</td>\n",
       "      <td>-40.313</td>\n",
       "      <td>Point Source</td>\n",
       "      <td>Should be discarded</td>\n",
       "      <td>NaN</td>\n",
       "      <td>NaN</td>\n",
       "    </tr>\n",
       "    <tr>\n",
       "      <th>1702</th>\n",
       "      <td>357.444</td>\n",
       "      <td>-25.683</td>\n",
       "      <td>Point Source</td>\n",
       "      <td>Should be discarded</td>\n",
       "      <td>NaN</td>\n",
       "      <td>NaN</td>\n",
       "    </tr>\n",
       "    <tr>\n",
       "      <th>1704</th>\n",
       "      <td>97.578</td>\n",
       "      <td>-52.929</td>\n",
       "      <td>Point Source</td>\n",
       "      <td>Should be discarded</td>\n",
       "      <td>NaN</td>\n",
       "      <td>NaN</td>\n",
       "    </tr>\n",
       "    <tr>\n",
       "      <th>1706</th>\n",
       "      <td>67.901</td>\n",
       "      <td>-61.743</td>\n",
       "      <td>Point Source</td>\n",
       "      <td>Should be discarded</td>\n",
       "      <td>NaN</td>\n",
       "      <td>NaN</td>\n",
       "    </tr>\n",
       "    <tr>\n",
       "      <th>1750</th>\n",
       "      <td>342.626</td>\n",
       "      <td>-16.422</td>\n",
       "      <td>Point Source</td>\n",
       "      <td>Should be discarded</td>\n",
       "      <td>NaN</td>\n",
       "      <td>NaN</td>\n",
       "    </tr>\n",
       "  </tbody>\n",
       "</table>\n",
       "</div>"
      ],
      "text/plain": [
       "          lat     lng        label1               label2               label3  \\\n",
       "50    144.600 -76.688  Point Source  Should be discarded                  NaN   \n",
       "487    99.299 -48.271  Point Source  Should be discarded                  NaN   \n",
       "530    49.015 -45.247  Point Source  Should be discarded                  NaN   \n",
       "617    48.944 -45.141  Point Source  Should be discarded                  NaN   \n",
       "754    10.626  -9.358  Point Source  Should be discarded                  NaN   \n",
       "831    61.692 -71.275  Point Source                  NaN  Should be discarded   \n",
       "1146  124.812 -56.955  Point Source                  NaN                  NaN   \n",
       "1214  238.526 -76.147  Point Source  Should be discarded                  NaN   \n",
       "1296   92.846 -48.201  Point Source  Should be discarded                  NaN   \n",
       "1323  115.922 -53.675  Point Source  Should be discarded                  NaN   \n",
       "1363  230.092 -84.044  Point Source  Should be discarded                  NaN   \n",
       "1390   87.126 -21.951  Point Source  Should be discarded                  NaN   \n",
       "1607  200.896 -31.880  Point Source  Should be discarded                  NaN   \n",
       "1624   89.844 -58.407  Point Source  Should be discarded                  NaN   \n",
       "1625  108.105 -60.124  Point Source  Should be discarded                  NaN   \n",
       "1627  237.915 -75.688  Point Source  Should be discarded                  NaN   \n",
       "1628   66.475 -60.899  Point Source  Should be discarded                  NaN   \n",
       "1629  301.756 -56.063  Point Source  Should be discarded                  NaN   \n",
       "1630  125.027 -57.448  Point Source  Should be discarded                  NaN   \n",
       "1633   61.094 -82.597  Point Source  Should be discarded                  NaN   \n",
       "1634  190.431 -48.755  Point Source  Should be discarded                  NaN   \n",
       "1635   92.282 -49.476  Point Source  Should be discarded                  NaN   \n",
       "1638  202.424 -31.978  Point Source  Should be discarded                  NaN   \n",
       "1640   96.358 -54.118  Point Source  Should be discarded                  NaN   \n",
       "1644  302.811 -57.348  Point Source  Should be discarded                  NaN   \n",
       "1647  212.986 -42.388  Point Source  Should be discarded                  NaN   \n",
       "1649  100.642 -48.221  Point Source  Should be discarded                  NaN   \n",
       "1655   10.743 -20.620  Point Source  Should be discarded                  NaN   \n",
       "1661   10.051 -20.190  Point Source  Should be discarded                  NaN   \n",
       "1662  213.475 -42.504  Point Source  Should be discarded                  NaN   \n",
       "1665  122.966 -57.127  Point Source  Should be discarded                  NaN   \n",
       "1674   49.974 -44.455  Point Source  Should be discarded                  NaN   \n",
       "1685   63.248 -55.993  Point Source  Should be discarded                  NaN   \n",
       "1687   93.398 -47.471  Point Source  Should be discarded                  NaN   \n",
       "1688  233.969 -47.506  Point Source  Should be discarded                  NaN   \n",
       "1689   99.251 -56.226  Point Source  Should be discarded                  NaN   \n",
       "1691    3.448 -19.584  Point Source  Should be discarded                  NaN   \n",
       "1693   10.211 -20.751  Point Source  Should be discarded                  NaN   \n",
       "1695   58.588 -74.254  Point Source  Should be discarded                  NaN   \n",
       "1699   98.521 -55.979  Point Source  Should be discarded                  NaN   \n",
       "1700   90.714 -40.313  Point Source  Should be discarded                  NaN   \n",
       "1702  357.444 -25.683  Point Source  Should be discarded                  NaN   \n",
       "1704   97.578 -52.929  Point Source  Should be discarded                  NaN   \n",
       "1706   67.901 -61.743  Point Source  Should be discarded                  NaN   \n",
       "1750  342.626 -16.422  Point Source  Should be discarded                  NaN   \n",
       "\n",
       "     filename  \n",
       "50        NaN  \n",
       "487       NaN  \n",
       "530       NaN  \n",
       "617       NaN  \n",
       "754       NaN  \n",
       "831       NaN  \n",
       "1146      NaN  \n",
       "1214      NaN  \n",
       "1296      NaN  \n",
       "1323      NaN  \n",
       "1363      NaN  \n",
       "1390      NaN  \n",
       "1607      NaN  \n",
       "1624      NaN  \n",
       "1625      NaN  \n",
       "1627      NaN  \n",
       "1628      NaN  \n",
       "1629      NaN  \n",
       "1630      NaN  \n",
       "1633      NaN  \n",
       "1634      NaN  \n",
       "1635      NaN  \n",
       "1638      NaN  \n",
       "1640      NaN  \n",
       "1644      NaN  \n",
       "1647      NaN  \n",
       "1649      NaN  \n",
       "1655      NaN  \n",
       "1661      NaN  \n",
       "1662      NaN  \n",
       "1665      NaN  \n",
       "1674      NaN  \n",
       "1685      NaN  \n",
       "1687      NaN  \n",
       "1688      NaN  \n",
       "1689      NaN  \n",
       "1691      NaN  \n",
       "1693      NaN  \n",
       "1695      NaN  \n",
       "1699      NaN  \n",
       "1700      NaN  \n",
       "1702      NaN  \n",
       "1704      NaN  \n",
       "1706      NaN  \n",
       "1750      NaN  "
      ]
     },
     "execution_count": 18,
     "metadata": {},
     "output_type": "execute_result"
    }
   ],
   "source": [
    "missed_labels_df[missed_labels_df['label1'] == 'Point Source'].round(3)"
   ]
  },
  {
   "cell_type": "code",
   "execution_count": 19,
   "id": "9d7a732f",
   "metadata": {},
   "outputs": [
    {
     "data": {
      "text/plain": [
       "label1\n",
       "FR II                  683\n",
       "Point Source           442\n",
       "FR I                   431\n",
       "Bent                   428\n",
       "Should be discarded    130\n",
       "typical                 24\n",
       "Exotic                  18\n",
       "S/Z shaped              17\n",
       "X-Shaped                 5\n",
       "Name: count, dtype: int64"
      ]
     },
     "execution_count": 19,
     "metadata": {},
     "output_type": "execute_result"
    }
   ],
   "source": [
    "labels_df['label1'].value_counts()"
   ]
  },
  {
   "cell_type": "code",
   "execution_count": 20,
   "id": "9621f4ab",
   "metadata": {},
   "outputs": [
    {
     "data": {
      "text/plain": [
       "label2\n",
       "Bent                   97\n",
       "Should be discarded    69\n",
       "Exotic                 33\n",
       "S/Z shaped              4\n",
       "X-Shaped                1\n",
       "Name: count, dtype: int64"
      ]
     },
     "execution_count": 20,
     "metadata": {},
     "output_type": "execute_result"
    }
   ],
   "source": [
    "labels_df['label2'].value_counts()"
   ]
  },
  {
   "cell_type": "code",
   "execution_count": 21,
   "id": "c7d75fcf",
   "metadata": {},
   "outputs": [
    {
     "data": {
      "text/plain": [
       "label3\n",
       "Exotic                 5\n",
       "Should be discarded    1\n",
       "Name: count, dtype: int64"
      ]
     },
     "execution_count": 21,
     "metadata": {},
     "output_type": "execute_result"
    }
   ],
   "source": [
    "labels_df['label3'].value_counts()"
   ]
  },
  {
   "cell_type": "code",
   "execution_count": 22,
   "id": "ba88dce6",
   "metadata": {},
   "outputs": [
    {
     "name": "stdout",
     "output_type": "stream",
     "text": [
      "Requirement already satisfied: matplotlib in c:\\users\\zamak\\appdata\\local\\packages\\pythonsoftwarefoundation.python.3.11_qbz5n2kfra8p0\\localcache\\local-packages\\python311\\site-packages (3.10.7)\n",
      "Requirement already satisfied: contourpy>=1.0.1 in c:\\users\\zamak\\appdata\\local\\packages\\pythonsoftwarefoundation.python.3.11_qbz5n2kfra8p0\\localcache\\local-packages\\python311\\site-packages (from matplotlib) (1.3.3)\n",
      "Requirement already satisfied: cycler>=0.10 in c:\\users\\zamak\\appdata\\local\\packages\\pythonsoftwarefoundation.python.3.11_qbz5n2kfra8p0\\localcache\\local-packages\\python311\\site-packages (from matplotlib) (0.12.1)\n",
      "Requirement already satisfied: fonttools>=4.22.0 in c:\\users\\zamak\\appdata\\local\\packages\\pythonsoftwarefoundation.python.3.11_qbz5n2kfra8p0\\localcache\\local-packages\\python311\\site-packages (from matplotlib) (4.60.1)\n",
      "Requirement already satisfied: kiwisolver>=1.3.1 in c:\\users\\zamak\\appdata\\local\\packages\\pythonsoftwarefoundation.python.3.11_qbz5n2kfra8p0\\localcache\\local-packages\\python311\\site-packages (from matplotlib) (1.4.9)\n",
      "Requirement already satisfied: numpy>=1.23 in c:\\users\\zamak\\appdata\\local\\packages\\pythonsoftwarefoundation.python.3.11_qbz5n2kfra8p0\\localcache\\local-packages\\python311\\site-packages (from matplotlib) (2.3.4)\n",
      "Requirement already satisfied: packaging>=20.0 in c:\\users\\zamak\\appdata\\local\\packages\\pythonsoftwarefoundation.python.3.11_qbz5n2kfra8p0\\localcache\\local-packages\\python311\\site-packages (from matplotlib) (25.0)\n",
      "Requirement already satisfied: pillow>=8 in c:\\users\\zamak\\appdata\\local\\packages\\pythonsoftwarefoundation.python.3.11_qbz5n2kfra8p0\\localcache\\local-packages\\python311\\site-packages (from matplotlib) (12.0.0)\n",
      "Requirement already satisfied: pyparsing>=3 in c:\\users\\zamak\\appdata\\local\\packages\\pythonsoftwarefoundation.python.3.11_qbz5n2kfra8p0\\localcache\\local-packages\\python311\\site-packages (from matplotlib) (3.2.5)\n",
      "Requirement already satisfied: python-dateutil>=2.7 in c:\\users\\zamak\\appdata\\local\\packages\\pythonsoftwarefoundation.python.3.11_qbz5n2kfra8p0\\localcache\\local-packages\\python311\\site-packages (from matplotlib) (2.9.0.post0)\n",
      "Requirement already satisfied: six>=1.5 in c:\\users\\zamak\\appdata\\local\\packages\\pythonsoftwarefoundation.python.3.11_qbz5n2kfra8p0\\localcache\\local-packages\\python311\\site-packages (from python-dateutil>=2.7->matplotlib) (1.17.0)\n"
     ]
    },
    {
     "name": "stderr",
     "output_type": "stream",
     "text": [
      "\n",
      "[notice] A new release of pip is available: 24.0 -> 25.2\n",
      "[notice] To update, run: C:\\Users\\zamak\\AppData\\Local\\Microsoft\\WindowsApps\\PythonSoftwareFoundation.Python.3.11_qbz5n2kfra8p0\\python.exe -m pip install --upgrade pip\n"
     ]
    },
    {
     "data": {
      "image/png": "[encoded data removed]",
      "text/plain": [
       "<Figure size 640x480 with 1 Axes>"
      ]
     },
     "metadata": {},
     "output_type": "display_data"
    }
   ],
   "source": [
    "#plot a bar chart of the label1 value counts\n",
    "!pip install matplotlib\n",
    "\n",
    "import matplotlib.pyplot as plt\n",
    "\n",
    "label_counts = labels_df['label1'].value_counts()\n",
    "plt.bar(label_counts.index, label_counts.values)\n",
    "plt.xticks(rotation=90)\n",
    "plt.xlabel('Labels')\n",
    "plt.ylabel('Counts')\n",
    "plt.title('Distribution of Labels 1')\n",
    "plt.show()"
   ]
  },
  {
   "cell_type": "code",
   "execution_count": 23,
   "id": "eecab15c",
   "metadata": {},
   "outputs": [
    {
     "data": {
      "image/png": "[encoded data removed]",
      "text/plain": [
       "<Figure size 640x480 with 1 Axes>"
      ]
     },
     "metadata": {},
     "output_type": "display_data"
    }
   ],
   "source": [
    "#plot a bar chart of the label1 value counts\n",
    "import matplotlib.pyplot as plt\n",
    "\n",
    "label_counts = labels_df['label2'].value_counts()\n",
    "plt.bar(label_counts.index, label_counts.values)\n",
    "plt.xticks(rotation=90)\n",
    "plt.xlabel('Labels')\n",
    "plt.ylabel('Counts')\n",
    "plt.title('Distribution of Labels 2')\n",
    "plt.show()"
   ]
  },
  {
   "cell_type": "code",
   "execution_count": 24,
   "id": "6dee46d1",
   "metadata": {},
   "outputs": [
    {
     "data": {
      "image/png": "[encoded data removed]",
      "text/plain": [
       "<Figure size 640x480 with 1 Axes>"
      ]
     },
     "metadata": {},
     "output_type": "display_data"
    }
   ],
   "source": [
    "#plot a bar chart of the label1 value counts\n",
    "import matplotlib.pyplot as plt\n",
    "\n",
    "label_counts = labels_df['label3'].value_counts()\n",
    "plt.bar(label_counts.index, label_counts.values)\n",
    "plt.xticks(rotation=90)\n",
    "plt.xlabel('Labels')\n",
    "plt.ylabel('Counts')\n",
    "plt.title('Distribution of Labels 3')\n",
    "plt.show()"
   ]
  },
  {
   "cell_type": "code",
   "execution_count": 25,
   "id": "be81a3ed",
   "metadata": {},
   "outputs": [],
   "source": [
    "import torch\n",
    "import torch.nn as nn\n",
    "import torchvision.transforms as transforms\n",
    "import torchvision.models as models\n",
    "import torch.optim as optim\n",
    "from torchvision.datasets import ImageFolder\n",
    "from torch.utils.data import DataLoader\n"
   ]
  },
  {
   "cell_type": "code",
   "execution_count": 26,
   "id": "a88bb89d",
   "metadata": {},
   "outputs": [],
   "source": [
    "# Define augmentation pipeline for training data\n",
    "train_transform = transforms.Compose([\n",
    "    transforms.ToTensor(),              # Convert image to PyTorch tensor\n",
    "    transforms.Resize((224, 224)),      # Resize to 224x224\n",
    "    transforms.RandomHorizontalFlip(),  # Randomly flip horizontally\n",
    "    transforms.RandomRotation(15),     # Randomly rotate by +/- 15 degrees\n",
    "    transforms.RandomAffine(degrees=0, translate=(0.1, 0.1)),  # Randomly translate\n",
    "])"
   ]
  },
  {
   "cell_type": "code",
   "execution_count": 27,
   "id": "609d3765",
   "metadata": {},
   "outputs": [],
   "source": [
    "#combine Data/typ/typ_PNG and Data/exo/exo_PNG into a single dataset with the defined transformations\n",
    "dataset_typ = ImageFolder(root='Data/typ', transform=train_transform)\n",
    "dataset_exo = ImageFolder(root='Data/exo', transform=train_transform)\n",
    "dataset = torch.utils.data.ConcatDataset([dataset_typ, dataset_exo])\n",
    "\n",
    "dataloader = DataLoader(dataset, batch_size=124, shuffle=True)"
   ]
  },
  {
   "cell_type": "markdown",
   "id": "8db10913",
   "metadata": {},
   "source": [
    "# CNN"
   ]
  },
  {
   "cell_type": "code",
   "execution_count": null,
   "id": "dbe8afa2",
   "metadata": {},
   "outputs": [
    {
     "name": "stdout",
     "output_type": "stream",
     "text": [
      "VGG(\n",
      "  (features): Sequential(\n",
      "    (0): Conv2d(3, 64, kernel_size=(3, 3), stride=(1, 1), padding=(1, 1))\n",
      "    (1): ReLU(inplace=True)\n",
      "    (2): Conv2d(64, 64, kernel_size=(3, 3), stride=(1, 1), padding=(1, 1))\n",
      "    (3): ReLU(inplace=True)\n",
      "    (4): MaxPool2d(kernel_size=2, stride=2, padding=0, dilation=1, ceil_mode=False)\n",
      "    (5): Conv2d(64, 128, kernel_size=(3, 3), stride=(1, 1), padding=(1, 1))\n",
      "    (6): ReLU(inplace=True)\n",
      "    (7): Conv2d(128, 128, kernel_size=(3, 3), stride=(1, 1), padding=(1, 1))\n",
      "    (8): ReLU(inplace=True)\n",
      "    (9): MaxPool2d(kernel_size=2, stride=2, padding=0, dilation=1, ceil_mode=False)\n",
      "    (10): Conv2d(128, 256, kernel_size=(3, 3), stride=(1, 1), padding=(1, 1))\n",
      "    (11): ReLU(inplace=True)\n",
      "    (12): Conv2d(256, 256, kernel_size=(3, 3), stride=(1, 1), padding=(1, 1))\n",
      "    (13): ReLU(inplace=True)\n",
      "    (14): Conv2d(256, 256, kernel_size=(3, 3), stride=(1, 1), padding=(1, 1))\n",
      "    (15): ReLU(inplace=True)\n",
      "    (16): MaxPool2d(kernel_size=2, stride=2, padding=0, dilation=1, ceil_mode=False)\n",
      "    (17): Conv2d(256, 512, kernel_size=(3, 3), stride=(1, 1), padding=(1, 1))\n",
      "    (18): ReLU(inplace=True)\n",
      "    (19): Conv2d(512, 512, kernel_size=(3, 3), stride=(1, 1), padding=(1, 1))\n",
      "    (20): ReLU(inplace=True)\n",
      "    (21): Conv2d(512, 512, kernel_size=(3, 3), stride=(1, 1), padding=(1, 1))\n",
      "    (22): ReLU(inplace=True)\n",
      "    (23): MaxPool2d(kernel_size=2, stride=2, padding=0, dilation=1, ceil_mode=False)\n",
      "    (24): Conv2d(512, 512, kernel_size=(3, 3), stride=(1, 1), padding=(1, 1))\n",
      "    (25): ReLU(inplace=True)\n",
      "    (26): Conv2d(512, 512, kernel_size=(3, 3), stride=(1, 1), padding=(1, 1))\n",
      "    (27): ReLU(inplace=True)\n",
      "    (28): Conv2d(512, 512, kernel_size=(3, 3), stride=(1, 1), padding=(1, 1))\n",
      "    (29): ReLU(inplace=True)\n",
      "    (30): MaxPool2d(kernel_size=2, stride=2, padding=0, dilation=1, ceil_mode=False)\n",
      "  )\n",
      "  (avgpool): AdaptiveAvgPool2d(output_size=(7, 7))\n",
      "  (classifier): Sequential(\n",
      "    (0): Linear(in_features=25088, out_features=4096, bias=True)\n",
      "    (1): ReLU(inplace=True)\n",
      "    (2): Dropout(p=0.5, inplace=False)\n",
      "    (3): Linear(in_features=4096, out_features=1024, bias=True)\n",
      "    (4): ReLU(inplace=True)\n",
      "    (5): Dropout(p=0.5, inplace=False)\n",
      "    (6): Linear(in_features=1024, out_features=10, bias=True)\n",
      "  )\n",
      ")\n"
     ]
    }
   ],
   "source": [
    "\n",
    "vgg16 = models.vgg16(weights=models.VGG16_Weights.IMAGENET1K_V1)\n",
    "for param in vgg16.features.parameters():\n",
    "    param.requires_grad = False\n",
    "\n",
    "num_classes = 10 #we will update according to the number of classes we have\n",
    "\n",
    "vgg16.classifier = nn.Sequential(\n",
    "    nn.Linear(25088, 4096),\n",
    "    nn.ReLU(inplace=True),\n",
    "    nn.Dropout(0.5), #adjust accordingly to help with overfitting\n",
    "    nn.Linear(4096, 1024),\n",
    "    nn.ReLU(inplace=True),\n",
    "    nn.Dropout(0.5), #adjust accordingly to help with overfitting\n",
    "    nn.Linear(1024, num_classes)\n",
    ")\n",
    "\n",
    "device = torch.device('cuda' if torch.cuda.is_available() else 'cpu')\n",
    "vgg16 = vgg16.to(device)\n",
    "\n",
    "criterion = nn.CrossEntropyLoss()\n",
    "optimizer = optim.Adam(vgg16.classifier.parameters(), lr=1e-3)\n",
    "scheduler = torch.optim.lr_scheduler.ReduceLROnPlateau(optimizer, mode='min', factor=0.5, patience=5)\n",
    "\n",
    "\n",
    "print(vgg16)"
   ]
  },
  {
   "cell_type": "code",
   "execution_count": null,
   "id": "f1b7054b",
   "metadata": {},
   "outputs": [
    {
     "name": "stdout",
     "output_type": "stream",
     "text": [
      "Epoch [2/2] Loss: 0.0000\n"
     ]
    }
   ],
   "source": [
    "train_losses = []\n",
    "\n",
    "def train(model, dataloader, criterion, optimizer, device, epochs):\n",
    "    model.train()\n",
    "    for epoch in range(epochs):\n",
    "        \n",
    "        for images, labels in dataloader:\n",
    "            images, labels = images.to(device), labels.to(device)\n",
    "\n",
    "            optimizer.zero_grad()\n",
    "            outputs = model(images)\n",
    "            loss = criterion(outputs, labels)\n",
    "            loss.backward()\n",
    "            optimizer.step()\n",
    "\n",
    "            loss = loss.detach().numpy()\n",
    "            train_losses.append(loss)\n",
    "\n",
    "        # This part is optional - Evaluation mode\n",
    "        # After each epoch we validate our model and if we see that the model is nologer learning we update the learning rate \n",
    "        model.eval()\n",
    "        with torch.no_grad():\n",
    "            val_pred = model(images)\n",
    "            loss = criterion(val_pred, labels)\n",
    "            train_losses.append(loss.detach().numpy())\n",
    "            scheduler.step(loss)\n",
    "        \n",
    "        print(f\"Epoch [{epoch+1}/{epochs}] Loss: {loss}\")\n",
    "\n",
    "\n",
    "train(vgg16, dataloader, criterion, optimizer, device, epochs=2)\n"
   ]
  },
  {
   "cell_type": "code",
   "execution_count": 30,
   "id": "157bcc72",
   "metadata": {},
   "outputs": [],
   "source": [
    "# torch.cuda.empty_cache()\n",
    "# torch.cuda.reset_peak_memory_stats()\n",
    "# print(torch.cuda.memory_summary(device=None, abbreviated=True))"
   ]
  },
  {
   "cell_type": "code",
   "execution_count": 31,
   "id": "1ccd4309",
   "metadata": {},
   "outputs": [
    {
     "data": {
      "image/png": "[encoded data removed]",
      "text/plain": [
       "<Figure size 640x480 with 1 Axes>"
      ]
     },
     "metadata": {},
     "output_type": "display_data"
    }
   ],
   "source": [
    "#plot training loss\n",
    "plt.plot(range(1, len(train_losses)+1), train_losses, label='Training Loss')\n",
    "plt.xlabel('Epochs')\n",
    "plt.ylabel('Loss')\n",
    "plt.title('Training Loss over Epochs')\n",
    "plt.show()\n"
   ]
  }
 ],
 "metadata": {
  "kernelspec": {
   "display_name": "Python 3",
   "language": "python",
   "name": "python3"
  },
  "language_info": {
   "codemirror_mode": {
    "name": "ipython",
    "version": 3
   },
   "file_extension": ".py",
   "mimetype": "text/x-python",
   "name": "python",
   "nbconvert_exporter": "python",
   "pygments_lexer": "ipython3",
   "version": "3.11.9"
  }
 },
 "nbformat": 4,
 "nbformat_minor": 5
}
