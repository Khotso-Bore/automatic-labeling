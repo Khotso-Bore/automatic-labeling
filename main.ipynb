{
 "cells": [
  {
   "cell_type": "code",
   "execution_count": 72,
   "id": "a3b6fa46",
   "metadata": {},
   "outputs": [],
   "source": [
    "import pandas as pd\n",
    "import numpy as np\n",
    "import torch"
   ]
  },
  {
   "cell_type": "markdown",
   "id": "c817939f",
   "metadata": {},
   "source": [
    "# Hardware Check"
   ]
  },
  {
   "cell_type": "code",
   "execution_count": 102,
   "id": "f9a37e39",
   "metadata": {},
   "outputs": [
    {
     "name": "stdout",
     "output_type": "stream",
     "text": [
      "Fri Oct 17 20:38:44 2025       \n",
      "+-----------------------------------------------------------------------------------------+\n",
      "| NVIDIA-SMI 560.94                 Driver Version: 560.94         CUDA Version: 12.6     |\n",
      "|-----------------------------------------+------------------------+----------------------+\n",
      "| GPU  Name                  Driver-Model | Bus-Id          Disp.A | Volatile Uncorr. ECC |\n",
      "| Fan  Temp   Perf          Pwr:Usage/Cap |           Memory-Usage | GPU-Util  Compute M. |\n",
      "|                                         |                        |               MIG M. |\n",
      "|=========================================+========================+======================|\n",
      "|   0  NVIDIA GeForce RTX 3060      WDDM  |   00000000:2B:00.0  On |                  N/A |\n",
      "|  0%   52C    P8             18W /  170W |   11950MiB /  12288MiB |      8%      Default |\n",
      "|                                         |                        |                  N/A |\n",
      "+-----------------------------------------+------------------------+----------------------+\n",
      "                                                                                         \n",
      "+-----------------------------------------------------------------------------------------+\n",
      "| Processes:                                                                              |\n",
      "|  GPU   GI   CI        PID   Type   Process name                              GPU Memory |\n",
      "|        ID   ID                                                               Usage      |\n",
      "|=========================================================================================|\n",
      "|    0   N/A  N/A      3876    C+G   ...5n1h2txyewy\\ShellExperienceHost.exe      N/A      |\n",
      "|    0   N/A  N/A      6276    C+G   ...crosoft\\Edge\\Application\\msedge.exe      N/A      |\n",
      "|    0   N/A  N/A      6564      C   ...rograms\\Python\\Python312\\python.exe      N/A      |\n",
      "|    0   N/A  N/A      9024    C+G   ...on\\141.0.3537.71\\msedgewebview2.exe      N/A      |\n",
      "|    0   N/A  N/A     14680    C+G   C:\\Windows\\explorer.exe                     N/A      |\n",
      "|    0   N/A  N/A     15392    C+G   C:\\Windows\\System32\\ShellHost.exe           N/A      |\n",
      "|    0   N/A  N/A     15668    C+G   ...les\\Microsoft OneDrive\\OneDrive.exe      N/A      |\n",
      "|    0   N/A  N/A     15688    C+G   ...cw5n1h2txyewy\\CrossDeviceResume.exe      N/A      |\n",
      "|    0   N/A  N/A     18112    C+G   ...nt.CBS_cw5n1h2txyewy\\SearchHost.exe      N/A      |\n",
      "|    0   N/A  N/A     18136    C+G   ...2txyewy\\StartMenuExperienceHost.exe      N/A      |\n",
      "|    0   N/A  N/A     18824    C+G   ...on\\141.0.3537.71\\msedgewebview2.exe      N/A      |\n",
      "|    0   N/A  N/A     20876    C+G   ...crosoft\\Edge\\Application\\msedge.exe      N/A      |\n",
      "|    0   N/A  N/A     21672    C+G   ...GeForce Experience\\NVIDIA Share.exe      N/A      |\n",
      "|    0   N/A  N/A     22552    C+G   ...CBS_cw5n1h2txyewy\\TextInputHost.exe      N/A      |\n",
      "|    0   N/A  N/A     23216    C+G   ....0_x64__kzh8wxbdkxb8p\\DCv2\\DCv2.exe      N/A      |\n",
      "|    0   N/A  N/A     27396    C+G   ...__8wekyb3d8bbwe\\WindowsTerminal.exe      N/A      |\n",
      "|    0   N/A  N/A     28112    C+G   ...on\\141.0.3537.71\\msedgewebview2.exe      N/A      |\n",
      "|    0   N/A  N/A     28260    C+G   ...153_x64__8wekyb3d8bbwe\\ms-teams.exe      N/A      |\n",
      "|    0   N/A  N/A     32904    C+G   ...Programs\\Microsoft VS Code\\Code.exe      N/A      |\n",
      "+-----------------------------------------------------------------------------------------+\n"
     ]
    }
   ],
   "source": [
    "!nvidia-smi"
   ]
  },
  {
   "cell_type": "code",
   "execution_count": 103,
   "id": "6d1a8561",
   "metadata": {},
   "outputs": [
    {
     "name": "stdout",
     "output_type": "stream",
     "text": [
      "Using GPU: NVIDIA GeForce RTX 3060\n"
     ]
    }
   ],
   "source": [
    "#check if GPU is available and print device name\n",
    "if torch.cuda.is_available():\n",
    "    device = torch.device(\"cuda\")\n",
    "    print(\"Using GPU:\", torch.cuda.get_device_name(0))\n",
    "\n",
    "else:\n",
    "    device = torch.device(\"cpu\")\n",
    "    print(\"Using CPU\")"
   ]
  },
  {
   "cell_type": "markdown",
   "id": "0de1da82",
   "metadata": {},
   "source": [
    "# Dataset "
   ]
  },
  {
   "cell_type": "code",
   "execution_count": 104,
   "id": "0b0c985f",
   "metadata": {},
   "outputs": [],
   "source": [
    "labels_df = pd.read_csv('labels.csv',names=['lat','lng','label1','label2','label3', 'filename'])"
   ]
  },
  {
   "cell_type": "code",
   "execution_count": 105,
   "id": "4059cf25",
   "metadata": {},
   "outputs": [
    {
     "name": "stdout",
     "output_type": "stream",
     "text": [
      "\n",
      "Total number of rows: 2178\n"
     ]
    },
    {
     "data": {
      "text/html": [
       "<div>\n",
       "<style scoped>\n",
       "    .dataframe tbody tr th:only-of-type {\n",
       "        vertical-align: middle;\n",
       "    }\n",
       "\n",
       "    .dataframe tbody tr th {\n",
       "        vertical-align: top;\n",
       "    }\n",
       "\n",
       "    .dataframe thead th {\n",
       "        text-align: right;\n",
       "    }\n",
       "</style>\n",
       "<table border=\"1\" class=\"dataframe\">\n",
       "  <thead>\n",
       "    <tr style=\"text-align: right;\">\n",
       "      <th></th>\n",
       "      <th>lat</th>\n",
       "      <th>lng</th>\n",
       "      <th>label1</th>\n",
       "      <th>label2</th>\n",
       "      <th>label3</th>\n",
       "      <th>filename</th>\n",
       "    </tr>\n",
       "  </thead>\n",
       "  <tbody>\n",
       "    <tr>\n",
       "      <th>0</th>\n",
       "      <td>10.328221</td>\n",
       "      <td>-20.476357</td>\n",
       "      <td>FR II</td>\n",
       "      <td>NaN</td>\n",
       "      <td>NaN</td>\n",
       "      <td>NaN</td>\n",
       "    </tr>\n",
       "    <tr>\n",
       "      <th>1</th>\n",
       "      <td>92.109802</td>\n",
       "      <td>-49.431413</td>\n",
       "      <td>typical</td>\n",
       "      <td>NaN</td>\n",
       "      <td>NaN</td>\n",
       "      <td>NaN</td>\n",
       "    </tr>\n",
       "    <tr>\n",
       "      <th>2</th>\n",
       "      <td>88.916825</td>\n",
       "      <td>-59.431868</td>\n",
       "      <td>Point Source</td>\n",
       "      <td>NaN</td>\n",
       "      <td>NaN</td>\n",
       "      <td>NaN</td>\n",
       "    </tr>\n",
       "    <tr>\n",
       "      <th>3</th>\n",
       "      <td>5.457981</td>\n",
       "      <td>-25.589637</td>\n",
       "      <td>FR II</td>\n",
       "      <td>NaN</td>\n",
       "      <td>NaN</td>\n",
       "      <td>NaN</td>\n",
       "    </tr>\n",
       "    <tr>\n",
       "      <th>4</th>\n",
       "      <td>119.417608</td>\n",
       "      <td>-53.396711</td>\n",
       "      <td>FR II</td>\n",
       "      <td>NaN</td>\n",
       "      <td>NaN</td>\n",
       "      <td>NaN</td>\n",
       "    </tr>\n",
       "  </tbody>\n",
       "</table>\n",
       "</div>"
      ],
      "text/plain": [
       "          lat        lng        label1 label2 label3  filename\n",
       "0   10.328221 -20.476357         FR II    NaN    NaN       NaN\n",
       "1   92.109802 -49.431413       typical    NaN    NaN       NaN\n",
       "2   88.916825 -59.431868  Point Source    NaN    NaN       NaN\n",
       "3    5.457981 -25.589637         FR II    NaN    NaN       NaN\n",
       "4  119.417608 -53.396711         FR II    NaN    NaN       NaN"
      ]
     },
     "execution_count": 105,
     "metadata": {},
     "output_type": "execute_result"
    }
   ],
   "source": [
    "total_rows_len = len(labels_df)\n",
    "print(f\"\\nTotal number of rows: {total_rows_len}\")\n",
    "labels_df.head()"
   ]
  },
  {
   "cell_type": "code",
   "execution_count": 106,
   "id": "4cfb529a",
   "metadata": {},
   "outputs": [
    {
     "name": "stdout",
     "output_type": "stream",
     "text": [
      "Total number of files: 2108\n",
      "0.250 -25.084_[0.02238656 0.02238656] deg_(Abell_141_1pln-forPyBDSF.FITS).fits.png\n",
      "0.316 -24.707_[0.0166409 0.0166409] deg_(Abell_141_1pln-forPyBDSF.FITS).fits.png\n",
      "0.327 -24.571_[0.02705031 0.02705031] deg_(Abell_141_1pln-forPyBDSF.FITS).fits.png\n",
      "0.371 -24.554_[0.009 0.009] deg_(Abell_141_1pln-forPyBDSF.FITS).fits.png\n",
      "0.425 -25.211_[0.02334787 0.02334787] deg_(Abell_141_1pln-forPyBDSF.FITS).fits.png\n"
     ]
    }
   ],
   "source": [
    "\n",
    "import os\n",
    "\n",
    "filenames = os.listdir('Data/typ/typ_PNG') + os.listdir('Data/exo/exo_PNG')\n",
    "print(f\"Total number of files: {len(filenames)}\")\n",
    "\n",
    "# Print first 5 filenames\n",
    "for i in range(5):\n",
    "    print(filenames[i])"
   ]
  },
  {
   "cell_type": "code",
   "execution_count": 107,
   "id": "2e4d7c43",
   "metadata": {},
   "outputs": [
    {
     "name": "stdout",
     "output_type": "stream",
     "text": [
      "lat         float64\n",
      "lng         float64\n",
      "label1       object\n",
      "label2       object\n",
      "label3       object\n",
      "filename    float64\n",
      "dtype: object\n"
     ]
    }
   ],
   "source": [
    "print(labels_df.dtypes)"
   ]
  },
  {
   "cell_type": "code",
   "execution_count": 108,
   "id": "17306e0c",
   "metadata": {},
   "outputs": [
    {
     "name": "stderr",
     "output_type": "stream",
     "text": [
      "C:\\Users\\User\\AppData\\Local\\Temp\\ipykernel_6564\\110920357.py:12: FutureWarning: Setting an item of incompatible dtype is deprecated and will raise an error in a future version of pandas. Value '0.250 -25.084_[0.02238656 0.02238656] deg_(Abell_141_1pln-forPyBDSF.FITS).fits.png' has dtype incompatible with float64, please explicitly cast to a compatible dtype first.\n",
      "  labels_df.loc[label_row.index, 'filename'] = filename\n"
     ]
    },
    {
     "name": "stdout",
     "output_type": "stream",
     "text": [
      "Skipping filename with unexpected format: .ipynb_checkpoints\n"
     ]
    }
   ],
   "source": [
    "for i, filename in enumerate(filenames,start=0):\n",
    "    coordinates = filename.split('_')[0]\n",
    "    if coordinates.count(' ') != 1:\n",
    "        print(f\"Skipping filename with unexpected format: {filename}\")\n",
    "        continue\n",
    "    \n",
    "    lat, lng = coordinates.split(' ')\n",
    "    lat, lng = float(lat), float(lng)\n",
    "   \n",
    "    label_row = labels_df[(labels_df['lat'].round(3) == lat) & (labels_df['lng'].round(3) == lng)]\n",
    "    if not label_row.empty:\n",
    "        labels_df.loc[label_row.index, 'filename'] = filename"
   ]
  },
  {
   "cell_type": "markdown",
   "id": "1f357718",
   "metadata": {},
   "source": [
    "## Missed labels"
   ]
  },
  {
   "cell_type": "code",
   "execution_count": 109,
   "id": "ab9841d0",
   "metadata": {},
   "outputs": [],
   "source": [
    "missed_labels_df = labels_df[labels_df['filename'].isnull()]"
   ]
  },
  {
   "cell_type": "code",
   "execution_count": 110,
   "id": "2eccf5ac",
   "metadata": {},
   "outputs": [
    {
     "name": "stdout",
     "output_type": "stream",
     "text": [
      "\n",
      "Number of missed labels (filename is null): 202\n"
     ]
    }
   ],
   "source": [
    "print(f\"\\nNumber of missed labels (filename is null): {len(missed_labels_df)}\")"
   ]
  },
  {
   "cell_type": "code",
   "execution_count": 111,
   "id": "f9c16e08",
   "metadata": {},
   "outputs": [
    {
     "data": {
      "text/html": [
       "<div>\n",
       "<style scoped>\n",
       "    .dataframe tbody tr th:only-of-type {\n",
       "        vertical-align: middle;\n",
       "    }\n",
       "\n",
       "    .dataframe tbody tr th {\n",
       "        vertical-align: top;\n",
       "    }\n",
       "\n",
       "    .dataframe thead th {\n",
       "        text-align: right;\n",
       "    }\n",
       "</style>\n",
       "<table border=\"1\" class=\"dataframe\">\n",
       "  <thead>\n",
       "    <tr style=\"text-align: right;\">\n",
       "      <th></th>\n",
       "      <th>lat</th>\n",
       "      <th>lng</th>\n",
       "      <th>label1</th>\n",
       "      <th>label2</th>\n",
       "      <th>label3</th>\n",
       "      <th>filename</th>\n",
       "    </tr>\n",
       "  </thead>\n",
       "  <tbody>\n",
       "    <tr>\n",
       "      <th>8</th>\n",
       "      <td>351.664270</td>\n",
       "      <td>-40.441765</td>\n",
       "      <td>Should be discarded</td>\n",
       "      <td>NaN</td>\n",
       "      <td>NaN</td>\n",
       "      <td>NaN</td>\n",
       "    </tr>\n",
       "    <tr>\n",
       "      <th>10</th>\n",
       "      <td>3.751163</td>\n",
       "      <td>-29.920867</td>\n",
       "      <td>Should be discarded</td>\n",
       "      <td>NaN</td>\n",
       "      <td>NaN</td>\n",
       "      <td>NaN</td>\n",
       "    </tr>\n",
       "    <tr>\n",
       "      <th>18</th>\n",
       "      <td>172.646749</td>\n",
       "      <td>-41.932433</td>\n",
       "      <td>Should be discarded</td>\n",
       "      <td>NaN</td>\n",
       "      <td>NaN</td>\n",
       "      <td>NaN</td>\n",
       "    </tr>\n",
       "    <tr>\n",
       "      <th>20</th>\n",
       "      <td>97.471185</td>\n",
       "      <td>-56.563903</td>\n",
       "      <td>Should be discarded</td>\n",
       "      <td>NaN</td>\n",
       "      <td>NaN</td>\n",
       "      <td>NaN</td>\n",
       "    </tr>\n",
       "    <tr>\n",
       "      <th>23</th>\n",
       "      <td>61.156721</td>\n",
       "      <td>-71.298579</td>\n",
       "      <td>Should be discarded</td>\n",
       "      <td>NaN</td>\n",
       "      <td>NaN</td>\n",
       "      <td>NaN</td>\n",
       "    </tr>\n",
       "  </tbody>\n",
       "</table>\n",
       "</div>"
      ],
      "text/plain": [
       "           lat        lng               label1 label2 label3 filename\n",
       "8   351.664270 -40.441765  Should be discarded    NaN    NaN      NaN\n",
       "10    3.751163 -29.920867  Should be discarded    NaN    NaN      NaN\n",
       "18  172.646749 -41.932433  Should be discarded    NaN    NaN      NaN\n",
       "20   97.471185 -56.563903  Should be discarded    NaN    NaN      NaN\n",
       "23   61.156721 -71.298579  Should be discarded    NaN    NaN      NaN"
      ]
     },
     "execution_count": 111,
     "metadata": {},
     "output_type": "execute_result"
    }
   ],
   "source": [
    "missed_labels_df.head()"
   ]
  },
  {
   "cell_type": "code",
   "execution_count": 112,
   "id": "36abdd53",
   "metadata": {},
   "outputs": [
    {
     "data": {
      "text/plain": [
       "label1\n",
       "Should be discarded    130\n",
       "Point Source            45\n",
       "FR II                   14\n",
       "Bent                     8\n",
       "FR I                     5\n",
       "Name: count, dtype: int64"
      ]
     },
     "execution_count": 112,
     "metadata": {},
     "output_type": "execute_result"
    }
   ],
   "source": [
    "missed_labels_df['label1'].value_counts()"
   ]
  },
  {
   "cell_type": "code",
   "execution_count": 113,
   "id": "f9b229ca",
   "metadata": {},
   "outputs": [
    {
     "data": {
      "text/html": [
       "<div>\n",
       "<style scoped>\n",
       "    .dataframe tbody tr th:only-of-type {\n",
       "        vertical-align: middle;\n",
       "    }\n",
       "\n",
       "    .dataframe tbody tr th {\n",
       "        vertical-align: top;\n",
       "    }\n",
       "\n",
       "    .dataframe thead th {\n",
       "        text-align: right;\n",
       "    }\n",
       "</style>\n",
       "<table border=\"1\" class=\"dataframe\">\n",
       "  <thead>\n",
       "    <tr style=\"text-align: right;\">\n",
       "      <th></th>\n",
       "      <th>lat</th>\n",
       "      <th>lng</th>\n",
       "      <th>label1</th>\n",
       "      <th>label2</th>\n",
       "      <th>label3</th>\n",
       "      <th>filename</th>\n",
       "    </tr>\n",
       "  </thead>\n",
       "  <tbody>\n",
       "    <tr>\n",
       "      <th>50</th>\n",
       "      <td>144.600</td>\n",
       "      <td>-76.688</td>\n",
       "      <td>Point Source</td>\n",
       "      <td>Should be discarded</td>\n",
       "      <td>NaN</td>\n",
       "      <td>NaN</td>\n",
       "    </tr>\n",
       "    <tr>\n",
       "      <th>487</th>\n",
       "      <td>99.299</td>\n",
       "      <td>-48.271</td>\n",
       "      <td>Point Source</td>\n",
       "      <td>Should be discarded</td>\n",
       "      <td>NaN</td>\n",
       "      <td>NaN</td>\n",
       "    </tr>\n",
       "    <tr>\n",
       "      <th>530</th>\n",
       "      <td>49.015</td>\n",
       "      <td>-45.247</td>\n",
       "      <td>Point Source</td>\n",
       "      <td>Should be discarded</td>\n",
       "      <td>NaN</td>\n",
       "      <td>NaN</td>\n",
       "    </tr>\n",
       "    <tr>\n",
       "      <th>617</th>\n",
       "      <td>48.944</td>\n",
       "      <td>-45.141</td>\n",
       "      <td>Point Source</td>\n",
       "      <td>Should be discarded</td>\n",
       "      <td>NaN</td>\n",
       "      <td>NaN</td>\n",
       "    </tr>\n",
       "    <tr>\n",
       "      <th>754</th>\n",
       "      <td>10.626</td>\n",
       "      <td>-9.358</td>\n",
       "      <td>Point Source</td>\n",
       "      <td>Should be discarded</td>\n",
       "      <td>NaN</td>\n",
       "      <td>NaN</td>\n",
       "    </tr>\n",
       "    <tr>\n",
       "      <th>831</th>\n",
       "      <td>61.692</td>\n",
       "      <td>-71.275</td>\n",
       "      <td>Point Source</td>\n",
       "      <td>NaN</td>\n",
       "      <td>Should be discarded</td>\n",
       "      <td>NaN</td>\n",
       "    </tr>\n",
       "    <tr>\n",
       "      <th>1146</th>\n",
       "      <td>124.812</td>\n",
       "      <td>-56.955</td>\n",
       "      <td>Point Source</td>\n",
       "      <td>NaN</td>\n",
       "      <td>NaN</td>\n",
       "      <td>NaN</td>\n",
       "    </tr>\n",
       "    <tr>\n",
       "      <th>1214</th>\n",
       "      <td>238.526</td>\n",
       "      <td>-76.147</td>\n",
       "      <td>Point Source</td>\n",
       "      <td>Should be discarded</td>\n",
       "      <td>NaN</td>\n",
       "      <td>NaN</td>\n",
       "    </tr>\n",
       "    <tr>\n",
       "      <th>1296</th>\n",
       "      <td>92.846</td>\n",
       "      <td>-48.201</td>\n",
       "      <td>Point Source</td>\n",
       "      <td>Should be discarded</td>\n",
       "      <td>NaN</td>\n",
       "      <td>NaN</td>\n",
       "    </tr>\n",
       "    <tr>\n",
       "      <th>1323</th>\n",
       "      <td>115.922</td>\n",
       "      <td>-53.675</td>\n",
       "      <td>Point Source</td>\n",
       "      <td>Should be discarded</td>\n",
       "      <td>NaN</td>\n",
       "      <td>NaN</td>\n",
       "    </tr>\n",
       "    <tr>\n",
       "      <th>1363</th>\n",
       "      <td>230.092</td>\n",
       "      <td>-84.044</td>\n",
       "      <td>Point Source</td>\n",
       "      <td>Should be discarded</td>\n",
       "      <td>NaN</td>\n",
       "      <td>NaN</td>\n",
       "    </tr>\n",
       "    <tr>\n",
       "      <th>1390</th>\n",
       "      <td>87.126</td>\n",
       "      <td>-21.951</td>\n",
       "      <td>Point Source</td>\n",
       "      <td>Should be discarded</td>\n",
       "      <td>NaN</td>\n",
       "      <td>NaN</td>\n",
       "    </tr>\n",
       "    <tr>\n",
       "      <th>1607</th>\n",
       "      <td>200.896</td>\n",
       "      <td>-31.880</td>\n",
       "      <td>Point Source</td>\n",
       "      <td>Should be discarded</td>\n",
       "      <td>NaN</td>\n",
       "      <td>NaN</td>\n",
       "    </tr>\n",
       "    <tr>\n",
       "      <th>1624</th>\n",
       "      <td>89.844</td>\n",
       "      <td>-58.407</td>\n",
       "      <td>Point Source</td>\n",
       "      <td>Should be discarded</td>\n",
       "      <td>NaN</td>\n",
       "      <td>NaN</td>\n",
       "    </tr>\n",
       "    <tr>\n",
       "      <th>1625</th>\n",
       "      <td>108.105</td>\n",
       "      <td>-60.124</td>\n",
       "      <td>Point Source</td>\n",
       "      <td>Should be discarded</td>\n",
       "      <td>NaN</td>\n",
       "      <td>NaN</td>\n",
       "    </tr>\n",
       "    <tr>\n",
       "      <th>1627</th>\n",
       "      <td>237.915</td>\n",
       "      <td>-75.688</td>\n",
       "      <td>Point Source</td>\n",
       "      <td>Should be discarded</td>\n",
       "      <td>NaN</td>\n",
       "      <td>NaN</td>\n",
       "    </tr>\n",
       "    <tr>\n",
       "      <th>1628</th>\n",
       "      <td>66.475</td>\n",
       "      <td>-60.899</td>\n",
       "      <td>Point Source</td>\n",
       "      <td>Should be discarded</td>\n",
       "      <td>NaN</td>\n",
       "      <td>NaN</td>\n",
       "    </tr>\n",
       "    <tr>\n",
       "      <th>1629</th>\n",
       "      <td>301.756</td>\n",
       "      <td>-56.063</td>\n",
       "      <td>Point Source</td>\n",
       "      <td>Should be discarded</td>\n",
       "      <td>NaN</td>\n",
       "      <td>NaN</td>\n",
       "    </tr>\n",
       "    <tr>\n",
       "      <th>1630</th>\n",
       "      <td>125.027</td>\n",
       "      <td>-57.448</td>\n",
       "      <td>Point Source</td>\n",
       "      <td>Should be discarded</td>\n",
       "      <td>NaN</td>\n",
       "      <td>NaN</td>\n",
       "    </tr>\n",
       "    <tr>\n",
       "      <th>1633</th>\n",
       "      <td>61.094</td>\n",
       "      <td>-82.597</td>\n",
       "      <td>Point Source</td>\n",
       "      <td>Should be discarded</td>\n",
       "      <td>NaN</td>\n",
       "      <td>NaN</td>\n",
       "    </tr>\n",
       "    <tr>\n",
       "      <th>1634</th>\n",
       "      <td>190.431</td>\n",
       "      <td>-48.755</td>\n",
       "      <td>Point Source</td>\n",
       "      <td>Should be discarded</td>\n",
       "      <td>NaN</td>\n",
       "      <td>NaN</td>\n",
       "    </tr>\n",
       "    <tr>\n",
       "      <th>1635</th>\n",
       "      <td>92.282</td>\n",
       "      <td>-49.476</td>\n",
       "      <td>Point Source</td>\n",
       "      <td>Should be discarded</td>\n",
       "      <td>NaN</td>\n",
       "      <td>NaN</td>\n",
       "    </tr>\n",
       "    <tr>\n",
       "      <th>1638</th>\n",
       "      <td>202.424</td>\n",
       "      <td>-31.978</td>\n",
       "      <td>Point Source</td>\n",
       "      <td>Should be discarded</td>\n",
       "      <td>NaN</td>\n",
       "      <td>NaN</td>\n",
       "    </tr>\n",
       "    <tr>\n",
       "      <th>1640</th>\n",
       "      <td>96.358</td>\n",
       "      <td>-54.118</td>\n",
       "      <td>Point Source</td>\n",
       "      <td>Should be discarded</td>\n",
       "      <td>NaN</td>\n",
       "      <td>NaN</td>\n",
       "    </tr>\n",
       "    <tr>\n",
       "      <th>1644</th>\n",
       "      <td>302.811</td>\n",
       "      <td>-57.348</td>\n",
       "      <td>Point Source</td>\n",
       "      <td>Should be discarded</td>\n",
       "      <td>NaN</td>\n",
       "      <td>NaN</td>\n",
       "    </tr>\n",
       "    <tr>\n",
       "      <th>1647</th>\n",
       "      <td>212.986</td>\n",
       "      <td>-42.388</td>\n",
       "      <td>Point Source</td>\n",
       "      <td>Should be discarded</td>\n",
       "      <td>NaN</td>\n",
       "      <td>NaN</td>\n",
       "    </tr>\n",
       "    <tr>\n",
       "      <th>1649</th>\n",
       "      <td>100.642</td>\n",
       "      <td>-48.221</td>\n",
       "      <td>Point Source</td>\n",
       "      <td>Should be discarded</td>\n",
       "      <td>NaN</td>\n",
       "      <td>NaN</td>\n",
       "    </tr>\n",
       "    <tr>\n",
       "      <th>1655</th>\n",
       "      <td>10.743</td>\n",
       "      <td>-20.620</td>\n",
       "      <td>Point Source</td>\n",
       "      <td>Should be discarded</td>\n",
       "      <td>NaN</td>\n",
       "      <td>NaN</td>\n",
       "    </tr>\n",
       "    <tr>\n",
       "      <th>1661</th>\n",
       "      <td>10.051</td>\n",
       "      <td>-20.190</td>\n",
       "      <td>Point Source</td>\n",
       "      <td>Should be discarded</td>\n",
       "      <td>NaN</td>\n",
       "      <td>NaN</td>\n",
       "    </tr>\n",
       "    <tr>\n",
       "      <th>1662</th>\n",
       "      <td>213.475</td>\n",
       "      <td>-42.504</td>\n",
       "      <td>Point Source</td>\n",
       "      <td>Should be discarded</td>\n",
       "      <td>NaN</td>\n",
       "      <td>NaN</td>\n",
       "    </tr>\n",
       "    <tr>\n",
       "      <th>1665</th>\n",
       "      <td>122.966</td>\n",
       "      <td>-57.127</td>\n",
       "      <td>Point Source</td>\n",
       "      <td>Should be discarded</td>\n",
       "      <td>NaN</td>\n",
       "      <td>NaN</td>\n",
       "    </tr>\n",
       "    <tr>\n",
       "      <th>1674</th>\n",
       "      <td>49.974</td>\n",
       "      <td>-44.455</td>\n",
       "      <td>Point Source</td>\n",
       "      <td>Should be discarded</td>\n",
       "      <td>NaN</td>\n",
       "      <td>NaN</td>\n",
       "    </tr>\n",
       "    <tr>\n",
       "      <th>1685</th>\n",
       "      <td>63.248</td>\n",
       "      <td>-55.993</td>\n",
       "      <td>Point Source</td>\n",
       "      <td>Should be discarded</td>\n",
       "      <td>NaN</td>\n",
       "      <td>NaN</td>\n",
       "    </tr>\n",
       "    <tr>\n",
       "      <th>1687</th>\n",
       "      <td>93.398</td>\n",
       "      <td>-47.471</td>\n",
       "      <td>Point Source</td>\n",
       "      <td>Should be discarded</td>\n",
       "      <td>NaN</td>\n",
       "      <td>NaN</td>\n",
       "    </tr>\n",
       "    <tr>\n",
       "      <th>1688</th>\n",
       "      <td>233.969</td>\n",
       "      <td>-47.506</td>\n",
       "      <td>Point Source</td>\n",
       "      <td>Should be discarded</td>\n",
       "      <td>NaN</td>\n",
       "      <td>NaN</td>\n",
       "    </tr>\n",
       "    <tr>\n",
       "      <th>1689</th>\n",
       "      <td>99.251</td>\n",
       "      <td>-56.226</td>\n",
       "      <td>Point Source</td>\n",
       "      <td>Should be discarded</td>\n",
       "      <td>NaN</td>\n",
       "      <td>NaN</td>\n",
       "    </tr>\n",
       "    <tr>\n",
       "      <th>1691</th>\n",
       "      <td>3.448</td>\n",
       "      <td>-19.584</td>\n",
       "      <td>Point Source</td>\n",
       "      <td>Should be discarded</td>\n",
       "      <td>NaN</td>\n",
       "      <td>NaN</td>\n",
       "    </tr>\n",
       "    <tr>\n",
       "      <th>1693</th>\n",
       "      <td>10.211</td>\n",
       "      <td>-20.751</td>\n",
       "      <td>Point Source</td>\n",
       "      <td>Should be discarded</td>\n",
       "      <td>NaN</td>\n",
       "      <td>NaN</td>\n",
       "    </tr>\n",
       "    <tr>\n",
       "      <th>1695</th>\n",
       "      <td>58.588</td>\n",
       "      <td>-74.254</td>\n",
       "      <td>Point Source</td>\n",
       "      <td>Should be discarded</td>\n",
       "      <td>NaN</td>\n",
       "      <td>NaN</td>\n",
       "    </tr>\n",
       "    <tr>\n",
       "      <th>1699</th>\n",
       "      <td>98.521</td>\n",
       "      <td>-55.979</td>\n",
       "      <td>Point Source</td>\n",
       "      <td>Should be discarded</td>\n",
       "      <td>NaN</td>\n",
       "      <td>NaN</td>\n",
       "    </tr>\n",
       "    <tr>\n",
       "      <th>1700</th>\n",
       "      <td>90.714</td>\n",
       "      <td>-40.313</td>\n",
       "      <td>Point Source</td>\n",
       "      <td>Should be discarded</td>\n",
       "      <td>NaN</td>\n",
       "      <td>NaN</td>\n",
       "    </tr>\n",
       "    <tr>\n",
       "      <th>1702</th>\n",
       "      <td>357.444</td>\n",
       "      <td>-25.683</td>\n",
       "      <td>Point Source</td>\n",
       "      <td>Should be discarded</td>\n",
       "      <td>NaN</td>\n",
       "      <td>NaN</td>\n",
       "    </tr>\n",
       "    <tr>\n",
       "      <th>1704</th>\n",
       "      <td>97.578</td>\n",
       "      <td>-52.929</td>\n",
       "      <td>Point Source</td>\n",
       "      <td>Should be discarded</td>\n",
       "      <td>NaN</td>\n",
       "      <td>NaN</td>\n",
       "    </tr>\n",
       "    <tr>\n",
       "      <th>1706</th>\n",
       "      <td>67.901</td>\n",
       "      <td>-61.743</td>\n",
       "      <td>Point Source</td>\n",
       "      <td>Should be discarded</td>\n",
       "      <td>NaN</td>\n",
       "      <td>NaN</td>\n",
       "    </tr>\n",
       "    <tr>\n",
       "      <th>1750</th>\n",
       "      <td>342.626</td>\n",
       "      <td>-16.422</td>\n",
       "      <td>Point Source</td>\n",
       "      <td>Should be discarded</td>\n",
       "      <td>NaN</td>\n",
       "      <td>NaN</td>\n",
       "    </tr>\n",
       "  </tbody>\n",
       "</table>\n",
       "</div>"
      ],
      "text/plain": [
       "          lat     lng        label1               label2               label3  \\\n",
       "50    144.600 -76.688  Point Source  Should be discarded                  NaN   \n",
       "487    99.299 -48.271  Point Source  Should be discarded                  NaN   \n",
       "530    49.015 -45.247  Point Source  Should be discarded                  NaN   \n",
       "617    48.944 -45.141  Point Source  Should be discarded                  NaN   \n",
       "754    10.626  -9.358  Point Source  Should be discarded                  NaN   \n",
       "831    61.692 -71.275  Point Source                  NaN  Should be discarded   \n",
       "1146  124.812 -56.955  Point Source                  NaN                  NaN   \n",
       "1214  238.526 -76.147  Point Source  Should be discarded                  NaN   \n",
       "1296   92.846 -48.201  Point Source  Should be discarded                  NaN   \n",
       "1323  115.922 -53.675  Point Source  Should be discarded                  NaN   \n",
       "1363  230.092 -84.044  Point Source  Should be discarded                  NaN   \n",
       "1390   87.126 -21.951  Point Source  Should be discarded                  NaN   \n",
       "1607  200.896 -31.880  Point Source  Should be discarded                  NaN   \n",
       "1624   89.844 -58.407  Point Source  Should be discarded                  NaN   \n",
       "1625  108.105 -60.124  Point Source  Should be discarded                  NaN   \n",
       "1627  237.915 -75.688  Point Source  Should be discarded                  NaN   \n",
       "1628   66.475 -60.899  Point Source  Should be discarded                  NaN   \n",
       "1629  301.756 -56.063  Point Source  Should be discarded                  NaN   \n",
       "1630  125.027 -57.448  Point Source  Should be discarded                  NaN   \n",
       "1633   61.094 -82.597  Point Source  Should be discarded                  NaN   \n",
       "1634  190.431 -48.755  Point Source  Should be discarded                  NaN   \n",
       "1635   92.282 -49.476  Point Source  Should be discarded                  NaN   \n",
       "1638  202.424 -31.978  Point Source  Should be discarded                  NaN   \n",
       "1640   96.358 -54.118  Point Source  Should be discarded                  NaN   \n",
       "1644  302.811 -57.348  Point Source  Should be discarded                  NaN   \n",
       "1647  212.986 -42.388  Point Source  Should be discarded                  NaN   \n",
       "1649  100.642 -48.221  Point Source  Should be discarded                  NaN   \n",
       "1655   10.743 -20.620  Point Source  Should be discarded                  NaN   \n",
       "1661   10.051 -20.190  Point Source  Should be discarded                  NaN   \n",
       "1662  213.475 -42.504  Point Source  Should be discarded                  NaN   \n",
       "1665  122.966 -57.127  Point Source  Should be discarded                  NaN   \n",
       "1674   49.974 -44.455  Point Source  Should be discarded                  NaN   \n",
       "1685   63.248 -55.993  Point Source  Should be discarded                  NaN   \n",
       "1687   93.398 -47.471  Point Source  Should be discarded                  NaN   \n",
       "1688  233.969 -47.506  Point Source  Should be discarded                  NaN   \n",
       "1689   99.251 -56.226  Point Source  Should be discarded                  NaN   \n",
       "1691    3.448 -19.584  Point Source  Should be discarded                  NaN   \n",
       "1693   10.211 -20.751  Point Source  Should be discarded                  NaN   \n",
       "1695   58.588 -74.254  Point Source  Should be discarded                  NaN   \n",
       "1699   98.521 -55.979  Point Source  Should be discarded                  NaN   \n",
       "1700   90.714 -40.313  Point Source  Should be discarded                  NaN   \n",
       "1702  357.444 -25.683  Point Source  Should be discarded                  NaN   \n",
       "1704   97.578 -52.929  Point Source  Should be discarded                  NaN   \n",
       "1706   67.901 -61.743  Point Source  Should be discarded                  NaN   \n",
       "1750  342.626 -16.422  Point Source  Should be discarded                  NaN   \n",
       "\n",
       "     filename  \n",
       "50        NaN  \n",
       "487       NaN  \n",
       "530       NaN  \n",
       "617       NaN  \n",
       "754       NaN  \n",
       "831       NaN  \n",
       "1146      NaN  \n",
       "1214      NaN  \n",
       "1296      NaN  \n",
       "1323      NaN  \n",
       "1363      NaN  \n",
       "1390      NaN  \n",
       "1607      NaN  \n",
       "1624      NaN  \n",
       "1625      NaN  \n",
       "1627      NaN  \n",
       "1628      NaN  \n",
       "1629      NaN  \n",
       "1630      NaN  \n",
       "1633      NaN  \n",
       "1634      NaN  \n",
       "1635      NaN  \n",
       "1638      NaN  \n",
       "1640      NaN  \n",
       "1644      NaN  \n",
       "1647      NaN  \n",
       "1649      NaN  \n",
       "1655      NaN  \n",
       "1661      NaN  \n",
       "1662      NaN  \n",
       "1665      NaN  \n",
       "1674      NaN  \n",
       "1685      NaN  \n",
       "1687      NaN  \n",
       "1688      NaN  \n",
       "1689      NaN  \n",
       "1691      NaN  \n",
       "1693      NaN  \n",
       "1695      NaN  \n",
       "1699      NaN  \n",
       "1700      NaN  \n",
       "1702      NaN  \n",
       "1704      NaN  \n",
       "1706      NaN  \n",
       "1750      NaN  "
      ]
     },
     "execution_count": 113,
     "metadata": {},
     "output_type": "execute_result"
    }
   ],
   "source": [
    "missed_labels_df[missed_labels_df['label1'] == 'Point Source'].round(3)"
   ]
  },
  {
   "cell_type": "code",
   "execution_count": 114,
   "id": "9d7a732f",
   "metadata": {},
   "outputs": [
    {
     "data": {
      "text/plain": [
       "label1\n",
       "FR II                  683\n",
       "Point Source           442\n",
       "FR I                   431\n",
       "Bent                   428\n",
       "Should be discarded    130\n",
       "typical                 24\n",
       "Exotic                  18\n",
       "S/Z shaped              17\n",
       "X-Shaped                 5\n",
       "Name: count, dtype: int64"
      ]
     },
     "execution_count": 114,
     "metadata": {},
     "output_type": "execute_result"
    }
   ],
   "source": [
    "labels_df['label1'].value_counts()"
   ]
  },
  {
   "cell_type": "code",
   "execution_count": 115,
   "id": "9621f4ab",
   "metadata": {},
   "outputs": [
    {
     "data": {
      "text/plain": [
       "label2\n",
       "Bent                   97\n",
       "Should be discarded    69\n",
       "Exotic                 33\n",
       "S/Z shaped              4\n",
       "X-Shaped                1\n",
       "Name: count, dtype: int64"
      ]
     },
     "execution_count": 115,
     "metadata": {},
     "output_type": "execute_result"
    }
   ],
   "source": [
    "labels_df['label2'].value_counts()"
   ]
  },
  {
   "cell_type": "code",
   "execution_count": 116,
   "id": "c7d75fcf",
   "metadata": {},
   "outputs": [
    {
     "data": {
      "text/plain": [
       "label3\n",
       "Exotic                 5\n",
       "Should be discarded    1\n",
       "Name: count, dtype: int64"
      ]
     },
     "execution_count": 116,
     "metadata": {},
     "output_type": "execute_result"
    }
   ],
   "source": [
    "labels_df['label3'].value_counts()"
   ]
  },
  {
   "cell_type": "code",
   "execution_count": 117,
   "id": "ba88dce6",
   "metadata": {},
   "outputs": [
    {
     "data": {
      "image/png": "[encoded data removed]",
      "text/plain": [
       "<Figure size 640x480 with 1 Axes>"
      ]
     },
     "metadata": {},
     "output_type": "display_data"
    }
   ],
   "source": [
    "#plot a bar chart of the label1 value counts\n",
    "import matplotlib.pyplot as plt\n",
    "\n",
    "label_counts = labels_df['label1'].value_counts()\n",
    "plt.bar(label_counts.index, label_counts.values)\n",
    "plt.xticks(rotation=90)\n",
    "plt.xlabel('Labels')\n",
    "plt.ylabel('Counts')\n",
    "plt.title('Distribution of Labels 1')\n",
    "plt.show()"
   ]
  },
  {
   "cell_type": "code",
   "execution_count": 118,
   "id": "eecab15c",
   "metadata": {},
   "outputs": [
    {
     "data": {
      "image/png": "[encoded data removed]",
      "text/plain": [
       "<Figure size 640x480 with 1 Axes>"
      ]
     },
     "metadata": {},
     "output_type": "display_data"
    }
   ],
   "source": [
    "#plot a bar chart of the label1 value counts\n",
    "import matplotlib.pyplot as plt\n",
    "\n",
    "label_counts = labels_df['label2'].value_counts()\n",
    "plt.bar(label_counts.index, label_counts.values)\n",
    "plt.xticks(rotation=90)\n",
    "plt.xlabel('Labels')\n",
    "plt.ylabel('Counts')\n",
    "plt.title('Distribution of Labels 2')\n",
    "plt.show()"
   ]
  },
  {
   "cell_type": "code",
   "execution_count": 119,
   "id": "6dee46d1",
   "metadata": {},
   "outputs": [
    {
     "data": {
      "image/png": "[encoded data removed]",
      "text/plain": [
       "<Figure size 640x480 with 1 Axes>"
      ]
     },
     "metadata": {},
     "output_type": "display_data"
    }
   ],
   "source": [
    "#plot a bar chart of the label1 value counts\n",
    "import matplotlib.pyplot as plt\n",
    "\n",
    "label_counts = labels_df['label3'].value_counts()\n",
    "plt.bar(label_counts.index, label_counts.values)\n",
    "plt.xticks(rotation=90)\n",
    "plt.xlabel('Labels')\n",
    "plt.ylabel('Counts')\n",
    "plt.title('Distribution of Labels 3')\n",
    "plt.show()"
   ]
  },
  {
   "cell_type": "code",
   "execution_count": 120,
   "id": "be81a3ed",
   "metadata": {},
   "outputs": [],
   "source": [
    "import torch\n",
    "import torch.nn as nn\n",
    "import torchvision.transforms as transforms\n",
    "import torchvision.models as models\n",
    "import torch.optim as optim\n",
    "from torchvision.datasets import ImageFolder\n",
    "from torch.utils.data import DataLoader\n"
   ]
  },
  {
   "cell_type": "code",
   "execution_count": 121,
   "id": "dbe8afa2",
   "metadata": {},
   "outputs": [],
   "source": [
    "# Define augmentation pipeline for training data\n",
    "train_transform = transforms.Compose([\n",
    "    transforms.ToTensor(),              # Convert image to PyTorch tensor\n",
    "    transforms.Resize((224, 224)),      # Resize to 224x224\n",
    "    transforms.RandomHorizontalFlip(),  # Randomly flip horizontally\n",
    "    transforms.RandomRotation(15),     # Randomly rotate by +/- 15 degrees\n",
    "    transforms.RandomAffine(degrees=0, translate=(0.1, 0.1)),  # Randomly translate\n",
    "])"
   ]
  },
  {
   "cell_type": "code",
   "execution_count": null,
   "id": "609d3765",
   "metadata": {},
   "outputs": [],
   "source": [
    "#combine Data/typ/typ_PNG and Data/exo/exo_PNG into a single dataset with the defined transformations\n",
    "dataset_typ = ImageFolder(root='Data/typ', transform=train_transform)\n",
    "dataset_exo = ImageFolder(root='Data/exo', transform=train_transform)\n",
    "dataset = torch.utils.data.ConcatDataset([dataset_typ, dataset_exo])\n",
    "\n",
    "dataloader = DataLoader(dataset, batch_size=124, shuffle=True)"
   ]
  },
  {
   "cell_type": "markdown",
   "id": "8db10913",
   "metadata": {},
   "source": [
    "# CNN"
   ]
  },
  {
   "cell_type": "code",
   "execution_count": null,
   "id": "157bcc72",
   "metadata": {},
   "outputs": [],
   "source": [
    "torch.cuda.empty_cache()\n",
    "torch.cuda.reset_peak_memory_stats()\n",
    "print(torch.cuda.memory_summary(device=None, abbreviated=True))"
   ]
  },
  {
   "cell_type": "code",
   "execution_count": 123,
   "id": "c9955434",
   "metadata": {},
   "outputs": [],
   "source": [
    "model = models.resnet50(weights=models.ResNet50_Weights.DEFAULT)\n",
    "# Replace final layer\n",
    "\n",
    "num_classes = labels_df['label1'].nunique()\n",
    "in_features = model.fc.in_features\n",
    "model.fc = nn.Linear(in_features, num_classes)\n",
    "model = model.to(device)"
   ]
  },
  {
   "cell_type": "code",
   "execution_count": 124,
   "id": "0e3a906c",
   "metadata": {},
   "outputs": [],
   "source": [
    "criterion = nn.CrossEntropyLoss()\n",
    "optimizer = optim.AdamW(model.parameters(), lr=0.001)"
   ]
  },
  {
   "cell_type": "code",
   "execution_count": 127,
   "id": "4619ab25",
   "metadata": {},
   "outputs": [
    {
     "name": "stdout",
     "output_type": "stream",
     "text": [
      "Epoch 1, Training Loss: 0.0007\n"
     ]
    }
   ],
   "source": [
    "# Training Loop (simplified):\n",
    "train_losses = []\n",
    "\n",
    "for epoch in range(1):\n",
    "    model.train()\n",
    "    running_loss = 0.0\n",
    "    for inputs, labels in dataloader:\n",
    "        inputs, labels = inputs.to(device), labels.to(device)\n",
    "        optimizer.zero_grad()\n",
    "        outputs = model(inputs)\n",
    "        loss = criterion(outputs, labels)\n",
    "        loss.backward()\n",
    "        optimizer.step()\n",
    "        running_loss += loss.item()\n",
    "    avg_loss = running_loss / len(dataloader)\n",
    "    train_losses.append(avg_loss)\n",
    "    print(f\"Epoch {epoch+1}, Training Loss: {avg_loss:.4f}\")"
   ]
  },
  {
   "cell_type": "code",
   "execution_count": 128,
   "id": "1ccd4309",
   "metadata": {},
   "outputs": [
    {
     "data": {
      "image/png": "[encoded data removed]",
      "text/plain": [
       "<Figure size 640x480 with 1 Axes>"
      ]
     },
     "metadata": {},
     "output_type": "display_data"
    }
   ],
   "source": [
    "#plot training loss\n",
    "plt.plot(range(1, len(train_losses)+1), train_losses, label='Training Loss')\n",
    "plt.xlabel('Epochs')\n",
    "plt.ylabel('Loss')\n",
    "plt.title('Training Loss over Epochs')\n",
    "plt.show()\n"
   ]
  }
 ],
 "metadata": {
  "kernelspec": {
   "display_name": "Python 3",
   "language": "python",
   "name": "python3"
  },
  "language_info": {
   "codemirror_mode": {
    "name": "ipython",
    "version": 3
   },
   "file_extension": ".py",
   "mimetype": "text/x-python",
   "name": "python",
   "nbconvert_exporter": "python",
   "pygments_lexer": "ipython3",
   "version": "3.12.9"
  }
 },
 "nbformat": 4,
 "nbformat_minor": 5
}
